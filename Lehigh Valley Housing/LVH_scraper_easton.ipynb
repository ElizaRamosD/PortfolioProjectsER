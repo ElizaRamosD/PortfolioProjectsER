{
 "cells": [
  {
   "cell_type": "code",
   "execution_count": 1,
   "id": "f2aa0e61",
   "metadata": {},
   "outputs": [],
   "source": [
    "# Web scraping done on  www.homes.com -\n",
    "# By Elizabeth Ramos\n",
    "# Updated: Feb 04, 2022\n",
    "\n",
    "# This project was originally meant for one city, at the end I decided to do it for some of the cities in the Lehigh Valley\n",
    "# area. The same code was used to scrape the web, only changed the city and the number of pages associated with it\n",
    "\n",
    "# For: Easton City, PA\n",
    "\n",
    "# import modules\n",
    "from bs4 import BeautifulSoup\n",
    "import requests\n",
    "import openpyxl\n"
   ]
  },
  {
   "cell_type": "code",
   "execution_count": 2,
   "id": "157092bf",
   "metadata": {},
   "outputs": [
    {
     "name": "stdout",
     "output_type": "stream",
     "text": [
      "['Sheet']\n",
      "['Houses for Sale in Easton']\n"
     ]
    }
   ],
   "source": [
    "# Create a excel file to load the data later\n",
    "Easton_data = openpyxl.Workbook()\n",
    "print(Easton_data.sheetnames)\n",
    "sheet = Easton_data.active\n",
    "sheet.title = 'Houses for Sale in Easton'\n",
    "print(Easton_data.sheetnames)\n",
    "sheet.append(['Address', 'Price', 'Rooms', 'City'])"
   ]
  },
  {
   "cell_type": "code",
   "execution_count": 3,
   "id": "00f8ef73",
   "metadata": {
    "scrolled": true
   },
   "outputs": [
    {
     "name": "stdout",
     "output_type": "stream",
     "text": [
      "p1\n",
      "https://www.homes.com/easton-pa/houses-for-sale/p1\n",
      "p1\n",
      "p1\n",
      "p1\n",
      "p1\n",
      "p1\n",
      "p1\n",
      "p1\n",
      "p1\n",
      "p1\n",
      "p1\n",
      "p1\n",
      "p1\n",
      "p1\n",
      "p1\n",
      "p1\n",
      "p1\n",
      "p1\n",
      "p1\n",
      "p1\n",
      "p2\n",
      "https://www.homes.com/easton-pa/houses-for-sale/p2\n",
      "p2\n",
      "p2\n",
      "p2\n",
      "p2\n",
      "p2\n",
      "p2\n",
      "p2\n",
      "p2\n",
      "p2\n",
      "p2\n",
      "p2\n",
      "p2\n",
      "p2\n",
      "p2\n",
      "p2\n",
      "p2\n",
      "p2\n",
      "p2\n",
      "p2\n",
      "p3\n",
      "https://www.homes.com/easton-pa/houses-for-sale/p3\n",
      "p3\n",
      "p3\n",
      "p3\n",
      "p3\n",
      "p3\n",
      "p3\n",
      "p3\n",
      "p3\n",
      "p3\n",
      "p3\n",
      "p3\n",
      "p3\n",
      "p3\n",
      "p3\n",
      "p3\n",
      "p3\n",
      "p3\n",
      "p3\n",
      "p3\n",
      "p4\n",
      "https://www.homes.com/easton-pa/houses-for-sale/p4\n",
      "p4\n",
      "p4\n",
      "p4\n",
      "p4\n",
      "p4\n"
     ]
    }
   ],
   "source": [
    "# p is the number of pages on the web, need to be optimized\n",
    "tag ={'p1', 'p2','p3','p4'}\n",
    "\n",
    "for p in tag:\n",
    "    print(p)\n",
    "      \n",
    "    url = f'https://www.homes.com/easton-pa/houses-for-sale/{p}'\n",
    "    print(url)\n",
    "    page = requests.get(url)\n",
    "\n",
    "    soup = BeautifulSoup(page.content, 'html.parser')\n",
    "   \n",
    "    houses = soup.find_all('div', class_='flex flex-column large-flex-row')\n",
    "    \n",
    "    for house in houses:\n",
    "        address = house.find('div', class_ ='l1x00fkf').text\n",
    "        price = house.find('span', class_ ='font-weight-light').text\n",
    "        rooms = house.find('div', class_ ='font-weight-light mb-1/4').text\n",
    "        city = house.find('div', class_ ='mb-1/2 font-weight-light').text\n",
    "     \n",
    "        sheet.append([address, price,rooms,city])\n",
    "        print(p) #to make sure is going thru each page - sanity check\n",
    "         \n",
    "                \n",
    "    "
   ]
  },
  {
   "cell_type": "code",
   "execution_count": 4,
   "id": "a2e3528c",
   "metadata": {},
   "outputs": [],
   "source": [
    "# Save the excel file \n",
    "Easton_data.save('Easton_Data_All.xlsx')"
   ]
  },
  {
   "cell_type": "code",
   "execution_count": null,
   "id": "8ea4496a",
   "metadata": {},
   "outputs": [],
   "source": []
  }
 ],
 "metadata": {
  "kernelspec": {
   "display_name": "Python 3",
   "language": "python",
   "name": "python3"
  },
  "language_info": {
   "codemirror_mode": {
    "name": "ipython",
    "version": 3
   },
   "file_extension": ".py",
   "mimetype": "text/x-python",
   "name": "python",
   "nbconvert_exporter": "python",
   "pygments_lexer": "ipython3",
   "version": "3.8.8"
  }
 },
 "nbformat": 4,
 "nbformat_minor": 5
}
