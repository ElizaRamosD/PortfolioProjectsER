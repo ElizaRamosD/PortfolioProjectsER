{
 "cells": [
  {
   "cell_type": "markdown",
   "id": "d0e748be",
   "metadata": {},
   "source": [
    "# App Rating prediction\n",
    "\n",
    "By Elizabeth Ramos\n",
    "\n",
    "\n",
    " \n",
    "\n",
    "# Steps to perform:\n",
    "\n",
    "Load the data file using pandas.  - done \n",
    "\n",
    "Check for null values in the data. Get the number of null values for each column. - done\n",
    "\n",
    "Drop records with nulls in any of the columns. -- done\n",
    "\n",
    "Variables seem to have incorrect type and inconsistent formatting. You need to fix them: \n",
    "\n",
    "Size column has sizes in Kb as well as Mb. To analyze, you’ll need to convert these to numeric. - done\n",
    "\n",
    "Extract the numeric value from the column -done\n",
    "\n",
    "Multiply the value by 1,000, if size is mentioned in Mb  -done\n",
    "\n",
    "Reviews is a numeric field that is loaded as a string field. Convert it to numeric (int/float). - done\n",
    "\n",
    "Installs field is currently stored as string and has values like 1,000,000+. - done\n",
    "\n",
    "Treat 1,000,000+ as 1,000,000 - done\n",
    "\n",
    "remove ‘+’, ‘,’ from the field, convert it to integer -done\n",
    "\n",
    "Price field is a string and has $ symbol. Remove ‘$’ sign, and convert it to numeric. -done\n",
    "\n",
    "5. Sanity checks:\n",
    "\n",
    "Average rating should be between 1 and 5 as only these values are allowed on the play store. Drop the rows that have a value outside this range. --done\n",
    "\n",
    "Reviews should not be more than installs as only those who installed can review the app. If there are any such records, drop them. --done\n",
    "\n",
    "For free apps (type = “Free”), the price should not be >0. Drop any such rows. --done\n",
    "\n",
    "5. Performing univariate analysis: \n",
    "\n",
    "Boxplot for Price\n",
    "\n",
    "Are there any outliers? Think about the price of usual apps on Play Store.\n",
    "\n",
    "Boxplot for Reviews\n",
    "\n",
    "Are there any apps with very high number of reviews? Do the values seem right?\n",
    "\n",
    "Histogram for Rating\n",
    "\n",
    "How are the ratings distributed? Is it more toward higher ratings?\n",
    "\n",
    "Histogram for Size\n",
    "\n",
    "Note down your observations for the plots made above. Which of these seem to have outliers?\n",
    "\n",
    "\n",
    "6. Outlier treatment: \n",
    "\n",
    "Price: From the box plot, it seems like there are some apps with very high price. A price of $200 for an application on the Play Store is very high and suspicious!\n",
    "\n",
    "Check out the records with very high price\n",
    "\n",
    "Is 200 indeed a high price?\n",
    "\n",
    "Drop these as most seem to be junk apps\n",
    "\n",
    "Reviews: Very few apps have very high number of reviews. These are all star apps that don’t help with the analysis and, in fact, will skew it. Drop records having more than 2 million reviews.\n",
    "\n",
    "Installs:  There seems to be some outliers in this field too. Apps having very high number of installs should be dropped from the analysis.\n",
    "\n",
    "Find out the different percentiles – 10, 25, 50, 70, 90, 95, 99\n",
    "\n",
    "Decide a threshold as cutoff for outlier and drop records having values more than that\n",
    "\n",
    "7. Bivariate analysis: Let’s look at how the available predictors relate to the variable of interest, i.e., our target variable rating. Make scatter plots (for numeric features) and box plots (for character features) to assess the relations between rating and the other features.\n",
    "\n",
    "Make scatter plot/joinplot for Rating vs. Price\n",
    "\n",
    "What pattern do you observe? Does rating increase with price?\n",
    "\n",
    "Make scatter plot/joinplot for Rating vs. Size\n",
    "\n",
    "Are heavier apps rated better?\n",
    "\n",
    "Make scatter plot/joinplot for Rating vs. Reviews\n",
    "\n",
    "Does more review mean a better rating always?\n",
    "\n",
    "Make boxplot for Rating vs. Content Rating\n",
    "\n",
    "Is there any difference in the ratings? Are some types liked better?\n",
    "\n",
    "Make boxplot for Ratings vs. Category\n",
    "\n",
    "Which genre has the best ratings?\n",
    "\n",
    "For each of the plots above, note down your observation.\n",
    "\n",
    "8. Data preprocessing\n",
    "\n",
    "For the steps below, create a copy of the dataframe to make all the edits. Name it inp1.\n",
    "\n",
    "Reviews and Install have some values that are still relatively very high. Before building a linear regression model, you need to reduce the skew. Apply log transformation (np.log1p) to Reviews and Installs.\n",
    "\n",
    "Drop columns App, Last Updated, Current Ver, and Android Ver. These variables are not useful for our task.\n",
    "\n",
    "Get dummy columns for Category, Genres, and Content Rating. This needs to be done as the models do not understand categorical data, and all data should be numeric. Dummy encoding is one way to convert character fields to numeric. Name of dataframe should be inp2.\n",
    "\n",
    "9. Train test split  and apply 70-30 split. Name the new dataframes df_train and df_test.\n",
    "\n",
    "10. Separate the dataframes into X_train, y_train, X_test, and y_test.\n",
    "\n",
    "11 . Model building\n",
    "\n",
    "Use linear regression as the technique\n",
    "\n",
    "Report the R2 on the train set\n",
    "\n",
    "12. Make predictions on test set and report R2."
   ]
  },
  {
   "cell_type": "code",
   "execution_count": 1,
   "id": "28292fcc",
   "metadata": {},
   "outputs": [],
   "source": [
    "# Import the necessary libraries\n",
    "import pandas as pd   # for data manipulation\n",
    "import numpy as np    # linear algebra, numeric datatypes\n",
    "import matplotlib.pyplot as plt \n",
    "import seaborn as sns\n",
    "# for Train test split and Linear Regression \n",
    "from sklearn.model_selection import train_test_split\n",
    "from sklearn.linear_model import LinearRegression\n",
    "from sklearn import metrics\n",
    "from sklearn import preprocessing \n",
    "# for the prediction of the test\n",
    "from statsmodels.api import OLS\n",
    "from sklearn.metrics import r2_score\n",
    "from sklearn.metrics import mean_squared_error as ms"
   ]
  },
  {
   "cell_type": "code",
   "execution_count": 2,
   "id": "dc3ec6a6",
   "metadata": {},
   "outputs": [],
   "source": [
    "# Load the data file using pandas. \n",
    "df = pd.read_csv('googleplaystore.csv')"
   ]
  },
  {
   "cell_type": "markdown",
   "id": "bafeb49d",
   "metadata": {},
   "source": []
  },
  {
   "cell_type": "code",
   "execution_count": 3,
   "id": "832e9161",
   "metadata": {},
   "outputs": [
    {
     "data": {
      "text/html": [
       "<div>\n",
       "<style scoped>\n",
       "    .dataframe tbody tr th:only-of-type {\n",
       "        vertical-align: middle;\n",
       "    }\n",
       "\n",
       "    .dataframe tbody tr th {\n",
       "        vertical-align: top;\n",
       "    }\n",
       "\n",
       "    .dataframe thead th {\n",
       "        text-align: right;\n",
       "    }\n",
       "</style>\n",
       "<table border=\"1\" class=\"dataframe\">\n",
       "  <thead>\n",
       "    <tr style=\"text-align: right;\">\n",
       "      <th></th>\n",
       "      <th>App</th>\n",
       "      <th>Category</th>\n",
       "      <th>Rating</th>\n",
       "      <th>Reviews</th>\n",
       "      <th>Size</th>\n",
       "      <th>Installs</th>\n",
       "      <th>Type</th>\n",
       "      <th>Price</th>\n",
       "      <th>Content Rating</th>\n",
       "      <th>Genres</th>\n",
       "      <th>Last Updated</th>\n",
       "      <th>Current Ver</th>\n",
       "      <th>Android Ver</th>\n",
       "    </tr>\n",
       "  </thead>\n",
       "  <tbody>\n",
       "    <tr>\n",
       "      <th>0</th>\n",
       "      <td>Photo Editor &amp; Candy Camera &amp; Grid &amp; ScrapBook</td>\n",
       "      <td>ART_AND_DESIGN</td>\n",
       "      <td>4.1</td>\n",
       "      <td>159</td>\n",
       "      <td>19M</td>\n",
       "      <td>10,000+</td>\n",
       "      <td>Free</td>\n",
       "      <td>0</td>\n",
       "      <td>Everyone</td>\n",
       "      <td>Art &amp; Design</td>\n",
       "      <td>January 7, 2018</td>\n",
       "      <td>1.0.0</td>\n",
       "      <td>4.0.3 and up</td>\n",
       "    </tr>\n",
       "    <tr>\n",
       "      <th>1</th>\n",
       "      <td>Coloring book moana</td>\n",
       "      <td>ART_AND_DESIGN</td>\n",
       "      <td>3.9</td>\n",
       "      <td>967</td>\n",
       "      <td>14M</td>\n",
       "      <td>500,000+</td>\n",
       "      <td>Free</td>\n",
       "      <td>0</td>\n",
       "      <td>Everyone</td>\n",
       "      <td>Art &amp; Design;Pretend Play</td>\n",
       "      <td>January 15, 2018</td>\n",
       "      <td>2.0.0</td>\n",
       "      <td>4.0.3 and up</td>\n",
       "    </tr>\n",
       "    <tr>\n",
       "      <th>2</th>\n",
       "      <td>U Launcher Lite – FREE Live Cool Themes, Hide ...</td>\n",
       "      <td>ART_AND_DESIGN</td>\n",
       "      <td>4.7</td>\n",
       "      <td>87510</td>\n",
       "      <td>8.7M</td>\n",
       "      <td>5,000,000+</td>\n",
       "      <td>Free</td>\n",
       "      <td>0</td>\n",
       "      <td>Everyone</td>\n",
       "      <td>Art &amp; Design</td>\n",
       "      <td>August 1, 2018</td>\n",
       "      <td>1.2.4</td>\n",
       "      <td>4.0.3 and up</td>\n",
       "    </tr>\n",
       "    <tr>\n",
       "      <th>3</th>\n",
       "      <td>Sketch - Draw &amp; Paint</td>\n",
       "      <td>ART_AND_DESIGN</td>\n",
       "      <td>4.5</td>\n",
       "      <td>215644</td>\n",
       "      <td>25M</td>\n",
       "      <td>50,000,000+</td>\n",
       "      <td>Free</td>\n",
       "      <td>0</td>\n",
       "      <td>Teen</td>\n",
       "      <td>Art &amp; Design</td>\n",
       "      <td>June 8, 2018</td>\n",
       "      <td>Varies with device</td>\n",
       "      <td>4.2 and up</td>\n",
       "    </tr>\n",
       "    <tr>\n",
       "      <th>4</th>\n",
       "      <td>Pixel Draw - Number Art Coloring Book</td>\n",
       "      <td>ART_AND_DESIGN</td>\n",
       "      <td>4.3</td>\n",
       "      <td>967</td>\n",
       "      <td>2.8M</td>\n",
       "      <td>100,000+</td>\n",
       "      <td>Free</td>\n",
       "      <td>0</td>\n",
       "      <td>Everyone</td>\n",
       "      <td>Art &amp; Design;Creativity</td>\n",
       "      <td>June 20, 2018</td>\n",
       "      <td>1.1</td>\n",
       "      <td>4.4 and up</td>\n",
       "    </tr>\n",
       "  </tbody>\n",
       "</table>\n",
       "</div>"
      ],
      "text/plain": [
       "                                                 App        Category  Rating  \\\n",
       "0     Photo Editor & Candy Camera & Grid & ScrapBook  ART_AND_DESIGN     4.1   \n",
       "1                                Coloring book moana  ART_AND_DESIGN     3.9   \n",
       "2  U Launcher Lite – FREE Live Cool Themes, Hide ...  ART_AND_DESIGN     4.7   \n",
       "3                              Sketch - Draw & Paint  ART_AND_DESIGN     4.5   \n",
       "4              Pixel Draw - Number Art Coloring Book  ART_AND_DESIGN     4.3   \n",
       "\n",
       "  Reviews  Size     Installs  Type Price Content Rating  \\\n",
       "0     159   19M      10,000+  Free     0       Everyone   \n",
       "1     967   14M     500,000+  Free     0       Everyone   \n",
       "2   87510  8.7M   5,000,000+  Free     0       Everyone   \n",
       "3  215644   25M  50,000,000+  Free     0           Teen   \n",
       "4     967  2.8M     100,000+  Free     0       Everyone   \n",
       "\n",
       "                      Genres      Last Updated         Current Ver  \\\n",
       "0               Art & Design   January 7, 2018               1.0.0   \n",
       "1  Art & Design;Pretend Play  January 15, 2018               2.0.0   \n",
       "2               Art & Design    August 1, 2018               1.2.4   \n",
       "3               Art & Design      June 8, 2018  Varies with device   \n",
       "4    Art & Design;Creativity     June 20, 2018                 1.1   \n",
       "\n",
       "    Android Ver  \n",
       "0  4.0.3 and up  \n",
       "1  4.0.3 and up  \n",
       "2  4.0.3 and up  \n",
       "3    4.2 and up  \n",
       "4    4.4 and up  "
      ]
     },
     "execution_count": 3,
     "metadata": {},
     "output_type": "execute_result"
    }
   ],
   "source": [
    "# Lets explore the first 5 rows of the data set\n",
    "df.head()"
   ]
  },
  {
   "cell_type": "code",
   "execution_count": 4,
   "id": "b87a343d",
   "metadata": {},
   "outputs": [
    {
     "data": {
      "text/html": [
       "<div>\n",
       "<style scoped>\n",
       "    .dataframe tbody tr th:only-of-type {\n",
       "        vertical-align: middle;\n",
       "    }\n",
       "\n",
       "    .dataframe tbody tr th {\n",
       "        vertical-align: top;\n",
       "    }\n",
       "\n",
       "    .dataframe thead th {\n",
       "        text-align: right;\n",
       "    }\n",
       "</style>\n",
       "<table border=\"1\" class=\"dataframe\">\n",
       "  <thead>\n",
       "    <tr style=\"text-align: right;\">\n",
       "      <th></th>\n",
       "      <th>App</th>\n",
       "      <th>Category</th>\n",
       "      <th>Rating</th>\n",
       "      <th>Reviews</th>\n",
       "      <th>Size</th>\n",
       "      <th>Installs</th>\n",
       "      <th>Type</th>\n",
       "      <th>Price</th>\n",
       "      <th>Content Rating</th>\n",
       "      <th>Genres</th>\n",
       "      <th>Last Updated</th>\n",
       "      <th>Current Ver</th>\n",
       "      <th>Android Ver</th>\n",
       "    </tr>\n",
       "  </thead>\n",
       "  <tbody>\n",
       "    <tr>\n",
       "      <th>10831</th>\n",
       "      <td>payermonstationnement.fr</td>\n",
       "      <td>MAPS_AND_NAVIGATION</td>\n",
       "      <td>NaN</td>\n",
       "      <td>38</td>\n",
       "      <td>9.8M</td>\n",
       "      <td>5,000+</td>\n",
       "      <td>Free</td>\n",
       "      <td>0</td>\n",
       "      <td>Everyone</td>\n",
       "      <td>Maps &amp; Navigation</td>\n",
       "      <td>June 13, 2018</td>\n",
       "      <td>2.0.148.0</td>\n",
       "      <td>4.0 and up</td>\n",
       "    </tr>\n",
       "    <tr>\n",
       "      <th>10832</th>\n",
       "      <td>FR Tides</td>\n",
       "      <td>WEATHER</td>\n",
       "      <td>3.8</td>\n",
       "      <td>1195</td>\n",
       "      <td>582k</td>\n",
       "      <td>100,000+</td>\n",
       "      <td>Free</td>\n",
       "      <td>0</td>\n",
       "      <td>Everyone</td>\n",
       "      <td>Weather</td>\n",
       "      <td>February 16, 2014</td>\n",
       "      <td>6.0</td>\n",
       "      <td>2.1 and up</td>\n",
       "    </tr>\n",
       "    <tr>\n",
       "      <th>10833</th>\n",
       "      <td>Chemin (fr)</td>\n",
       "      <td>BOOKS_AND_REFERENCE</td>\n",
       "      <td>4.8</td>\n",
       "      <td>44</td>\n",
       "      <td>619k</td>\n",
       "      <td>1,000+</td>\n",
       "      <td>Free</td>\n",
       "      <td>0</td>\n",
       "      <td>Everyone</td>\n",
       "      <td>Books &amp; Reference</td>\n",
       "      <td>March 23, 2014</td>\n",
       "      <td>0.8</td>\n",
       "      <td>2.2 and up</td>\n",
       "    </tr>\n",
       "    <tr>\n",
       "      <th>10834</th>\n",
       "      <td>FR Calculator</td>\n",
       "      <td>FAMILY</td>\n",
       "      <td>4.0</td>\n",
       "      <td>7</td>\n",
       "      <td>2.6M</td>\n",
       "      <td>500+</td>\n",
       "      <td>Free</td>\n",
       "      <td>0</td>\n",
       "      <td>Everyone</td>\n",
       "      <td>Education</td>\n",
       "      <td>June 18, 2017</td>\n",
       "      <td>1.0.0</td>\n",
       "      <td>4.1 and up</td>\n",
       "    </tr>\n",
       "    <tr>\n",
       "      <th>10835</th>\n",
       "      <td>FR Forms</td>\n",
       "      <td>BUSINESS</td>\n",
       "      <td>NaN</td>\n",
       "      <td>0</td>\n",
       "      <td>9.6M</td>\n",
       "      <td>10+</td>\n",
       "      <td>Free</td>\n",
       "      <td>0</td>\n",
       "      <td>Everyone</td>\n",
       "      <td>Business</td>\n",
       "      <td>September 29, 2016</td>\n",
       "      <td>1.1.5</td>\n",
       "      <td>4.0 and up</td>\n",
       "    </tr>\n",
       "    <tr>\n",
       "      <th>10836</th>\n",
       "      <td>Sya9a Maroc - FR</td>\n",
       "      <td>FAMILY</td>\n",
       "      <td>4.5</td>\n",
       "      <td>38</td>\n",
       "      <td>53M</td>\n",
       "      <td>5,000+</td>\n",
       "      <td>Free</td>\n",
       "      <td>0</td>\n",
       "      <td>Everyone</td>\n",
       "      <td>Education</td>\n",
       "      <td>July 25, 2017</td>\n",
       "      <td>1.48</td>\n",
       "      <td>4.1 and up</td>\n",
       "    </tr>\n",
       "    <tr>\n",
       "      <th>10837</th>\n",
       "      <td>Fr. Mike Schmitz Audio Teachings</td>\n",
       "      <td>FAMILY</td>\n",
       "      <td>5.0</td>\n",
       "      <td>4</td>\n",
       "      <td>3.6M</td>\n",
       "      <td>100+</td>\n",
       "      <td>Free</td>\n",
       "      <td>0</td>\n",
       "      <td>Everyone</td>\n",
       "      <td>Education</td>\n",
       "      <td>July 6, 2018</td>\n",
       "      <td>1.0</td>\n",
       "      <td>4.1 and up</td>\n",
       "    </tr>\n",
       "    <tr>\n",
       "      <th>10838</th>\n",
       "      <td>Parkinson Exercices FR</td>\n",
       "      <td>MEDICAL</td>\n",
       "      <td>NaN</td>\n",
       "      <td>3</td>\n",
       "      <td>9.5M</td>\n",
       "      <td>1,000+</td>\n",
       "      <td>Free</td>\n",
       "      <td>0</td>\n",
       "      <td>Everyone</td>\n",
       "      <td>Medical</td>\n",
       "      <td>January 20, 2017</td>\n",
       "      <td>1.0</td>\n",
       "      <td>2.2 and up</td>\n",
       "    </tr>\n",
       "    <tr>\n",
       "      <th>10839</th>\n",
       "      <td>The SCP Foundation DB fr nn5n</td>\n",
       "      <td>BOOKS_AND_REFERENCE</td>\n",
       "      <td>4.5</td>\n",
       "      <td>114</td>\n",
       "      <td>Varies with device</td>\n",
       "      <td>1,000+</td>\n",
       "      <td>Free</td>\n",
       "      <td>0</td>\n",
       "      <td>Mature 17+</td>\n",
       "      <td>Books &amp; Reference</td>\n",
       "      <td>January 19, 2015</td>\n",
       "      <td>Varies with device</td>\n",
       "      <td>Varies with device</td>\n",
       "    </tr>\n",
       "    <tr>\n",
       "      <th>10840</th>\n",
       "      <td>iHoroscope - 2018 Daily Horoscope &amp; Astrology</td>\n",
       "      <td>LIFESTYLE</td>\n",
       "      <td>4.5</td>\n",
       "      <td>398307</td>\n",
       "      <td>19M</td>\n",
       "      <td>10,000,000+</td>\n",
       "      <td>Free</td>\n",
       "      <td>0</td>\n",
       "      <td>Everyone</td>\n",
       "      <td>Lifestyle</td>\n",
       "      <td>July 25, 2018</td>\n",
       "      <td>Varies with device</td>\n",
       "      <td>Varies with device</td>\n",
       "    </tr>\n",
       "  </tbody>\n",
       "</table>\n",
       "</div>"
      ],
      "text/plain": [
       "                                                 App             Category  \\\n",
       "10831                       payermonstationnement.fr  MAPS_AND_NAVIGATION   \n",
       "10832                                       FR Tides              WEATHER   \n",
       "10833                                    Chemin (fr)  BOOKS_AND_REFERENCE   \n",
       "10834                                  FR Calculator               FAMILY   \n",
       "10835                                       FR Forms             BUSINESS   \n",
       "10836                               Sya9a Maroc - FR               FAMILY   \n",
       "10837               Fr. Mike Schmitz Audio Teachings               FAMILY   \n",
       "10838                         Parkinson Exercices FR              MEDICAL   \n",
       "10839                  The SCP Foundation DB fr nn5n  BOOKS_AND_REFERENCE   \n",
       "10840  iHoroscope - 2018 Daily Horoscope & Astrology            LIFESTYLE   \n",
       "\n",
       "       Rating Reviews                Size     Installs  Type Price  \\\n",
       "10831     NaN      38                9.8M       5,000+  Free     0   \n",
       "10832     3.8    1195                582k     100,000+  Free     0   \n",
       "10833     4.8      44                619k       1,000+  Free     0   \n",
       "10834     4.0       7                2.6M         500+  Free     0   \n",
       "10835     NaN       0                9.6M          10+  Free     0   \n",
       "10836     4.5      38                 53M       5,000+  Free     0   \n",
       "10837     5.0       4                3.6M         100+  Free     0   \n",
       "10838     NaN       3                9.5M       1,000+  Free     0   \n",
       "10839     4.5     114  Varies with device       1,000+  Free     0   \n",
       "10840     4.5  398307                 19M  10,000,000+  Free     0   \n",
       "\n",
       "      Content Rating             Genres        Last Updated  \\\n",
       "10831       Everyone  Maps & Navigation       June 13, 2018   \n",
       "10832       Everyone            Weather   February 16, 2014   \n",
       "10833       Everyone  Books & Reference      March 23, 2014   \n",
       "10834       Everyone          Education       June 18, 2017   \n",
       "10835       Everyone           Business  September 29, 2016   \n",
       "10836       Everyone          Education       July 25, 2017   \n",
       "10837       Everyone          Education        July 6, 2018   \n",
       "10838       Everyone            Medical    January 20, 2017   \n",
       "10839     Mature 17+  Books & Reference    January 19, 2015   \n",
       "10840       Everyone          Lifestyle       July 25, 2018   \n",
       "\n",
       "              Current Ver         Android Ver  \n",
       "10831           2.0.148.0          4.0 and up  \n",
       "10832                 6.0          2.1 and up  \n",
       "10833                 0.8          2.2 and up  \n",
       "10834               1.0.0          4.1 and up  \n",
       "10835               1.1.5          4.0 and up  \n",
       "10836                1.48          4.1 and up  \n",
       "10837                 1.0          4.1 and up  \n",
       "10838                 1.0          2.2 and up  \n",
       "10839  Varies with device  Varies with device  \n",
       "10840  Varies with device  Varies with device  "
      ]
     },
     "execution_count": 4,
     "metadata": {},
     "output_type": "execute_result"
    }
   ],
   "source": [
    "# Lets check the last 10 rows of the data frame\n",
    "df.tail(10)"
   ]
  },
  {
   "cell_type": "code",
   "execution_count": 5,
   "id": "3060b2d7",
   "metadata": {},
   "outputs": [
    {
     "name": "stdout",
     "output_type": "stream",
     "text": [
      "<class 'pandas.core.frame.DataFrame'>\n",
      "RangeIndex: 10841 entries, 0 to 10840\n",
      "Data columns (total 13 columns):\n",
      " #   Column          Non-Null Count  Dtype  \n",
      "---  ------          --------------  -----  \n",
      " 0   App             10841 non-null  object \n",
      " 1   Category        10841 non-null  object \n",
      " 2   Rating          9367 non-null   float64\n",
      " 3   Reviews         10841 non-null  object \n",
      " 4   Size            10841 non-null  object \n",
      " 5   Installs        10841 non-null  object \n",
      " 6   Type            10840 non-null  object \n",
      " 7   Price           10841 non-null  object \n",
      " 8   Content Rating  10840 non-null  object \n",
      " 9   Genres          10841 non-null  object \n",
      " 10  Last Updated    10841 non-null  object \n",
      " 11  Current Ver     10833 non-null  object \n",
      " 12  Android Ver     10838 non-null  object \n",
      "dtypes: float64(1), object(12)\n",
      "memory usage: 1.1+ MB\n"
     ]
    }
   ],
   "source": [
    "# Let's see the datatypes and the count for each column\n",
    "df.info()"
   ]
  },
  {
   "cell_type": "code",
   "execution_count": 6,
   "id": "40dcc097",
   "metadata": {},
   "outputs": [
    {
     "data": {
      "text/html": [
       "<div>\n",
       "<style scoped>\n",
       "    .dataframe tbody tr th:only-of-type {\n",
       "        vertical-align: middle;\n",
       "    }\n",
       "\n",
       "    .dataframe tbody tr th {\n",
       "        vertical-align: top;\n",
       "    }\n",
       "\n",
       "    .dataframe thead th {\n",
       "        text-align: right;\n",
       "    }\n",
       "</style>\n",
       "<table border=\"1\" class=\"dataframe\">\n",
       "  <thead>\n",
       "    <tr style=\"text-align: right;\">\n",
       "      <th></th>\n",
       "      <th>Rating</th>\n",
       "    </tr>\n",
       "  </thead>\n",
       "  <tbody>\n",
       "    <tr>\n",
       "      <th>count</th>\n",
       "      <td>9367.0</td>\n",
       "    </tr>\n",
       "    <tr>\n",
       "      <th>mean</th>\n",
       "      <td>4.0</td>\n",
       "    </tr>\n",
       "    <tr>\n",
       "      <th>std</th>\n",
       "      <td>1.0</td>\n",
       "    </tr>\n",
       "    <tr>\n",
       "      <th>min</th>\n",
       "      <td>1.0</td>\n",
       "    </tr>\n",
       "    <tr>\n",
       "      <th>25%</th>\n",
       "      <td>4.0</td>\n",
       "    </tr>\n",
       "    <tr>\n",
       "      <th>50%</th>\n",
       "      <td>4.0</td>\n",
       "    </tr>\n",
       "    <tr>\n",
       "      <th>75%</th>\n",
       "      <td>4.0</td>\n",
       "    </tr>\n",
       "    <tr>\n",
       "      <th>max</th>\n",
       "      <td>19.0</td>\n",
       "    </tr>\n",
       "  </tbody>\n",
       "</table>\n",
       "</div>"
      ],
      "text/plain": [
       "       Rating\n",
       "count  9367.0\n",
       "mean      4.0\n",
       "std       1.0\n",
       "min       1.0\n",
       "25%       4.0\n",
       "50%       4.0\n",
       "75%       4.0\n",
       "max      19.0"
      ]
     },
     "execution_count": 6,
     "metadata": {},
     "output_type": "execute_result"
    }
   ],
   "source": [
    "df.describe().round()"
   ]
  },
  {
   "cell_type": "markdown",
   "id": "c8eafccc",
   "metadata": {},
   "source": [
    "Observations:\n",
    "- Our data frame consists of 10841 entries and 13 columns\n",
    "- The only float64 type is our Target variable, the rest are object type which means we need to perform some data change type\n",
    "- We see the names of the columns with spaces, lets have them together for better readeability\n",
    "- Probably we need to drop some columns no needed for our analysis\n",
    "- Some variables seem to have inconsistent formatting.\n",
    "- Our Target variable has some NaN, since there are 10,841 entries and we had a count of 9,367 records which mean that we probably have 1,474 missing values in our target variable. We need to explore if we have other variables with NaN also\n",
    "- The max value in Rating is 19 which tell us that we need to clean some data "
   ]
  },
  {
   "cell_type": "markdown",
   "id": "3faddc3d",
   "metadata": {},
   "source": [
    "# Data Cleaning:"
   ]
  },
  {
   "cell_type": "code",
   "execution_count": 7,
   "id": "4607d388",
   "metadata": {},
   "outputs": [],
   "source": [
    "# Rename columns\n",
    "df.rename(columns ={ 'Content Rating': 'Content_rating', 'Last Updated': 'Last_updated',\n",
    "                    'Current Ver': 'Current_version','Android Ver': 'Android_version'}, inplace = True)"
   ]
  },
  {
   "cell_type": "code",
   "execution_count": 8,
   "id": "0b25bcbd",
   "metadata": {},
   "outputs": [
    {
     "name": "stdout",
     "output_type": "stream",
     "text": [
      "<class 'pandas.core.frame.DataFrame'>\n",
      "RangeIndex: 10841 entries, 0 to 10840\n",
      "Data columns (total 13 columns):\n",
      " #   Column           Non-Null Count  Dtype  \n",
      "---  ------           --------------  -----  \n",
      " 0   App              10841 non-null  object \n",
      " 1   Category         10841 non-null  object \n",
      " 2   Rating           9367 non-null   float64\n",
      " 3   Reviews          10841 non-null  object \n",
      " 4   Size             10841 non-null  object \n",
      " 5   Installs         10841 non-null  object \n",
      " 6   Type             10840 non-null  object \n",
      " 7   Price            10841 non-null  object \n",
      " 8   Content_rating   10840 non-null  object \n",
      " 9   Genres           10841 non-null  object \n",
      " 10  Last_updated     10841 non-null  object \n",
      " 11  Current_version  10833 non-null  object \n",
      " 12  Android_version  10838 non-null  object \n",
      "dtypes: float64(1), object(12)\n",
      "memory usage: 1.1+ MB\n"
     ]
    }
   ],
   "source": [
    "# Lets check the column names again\n",
    "df.info()"
   ]
  },
  {
   "cell_type": "code",
   "execution_count": 9,
   "id": "2f683473",
   "metadata": {},
   "outputs": [
    {
     "data": {
      "text/plain": [
       "True"
      ]
     },
     "execution_count": 9,
     "metadata": {},
     "output_type": "execute_result"
    }
   ],
   "source": [
    "# Check for null values in the data\n",
    "df.isnull().values.any()"
   ]
  },
  {
   "cell_type": "code",
   "execution_count": 10,
   "id": "0ba55bc6",
   "metadata": {},
   "outputs": [
    {
     "data": {
      "text/plain": [
       "App                   0\n",
       "Category              0\n",
       "Rating             1474\n",
       "Reviews               0\n",
       "Size                  0\n",
       "Installs              0\n",
       "Type                  1\n",
       "Price                 0\n",
       "Content_rating        1\n",
       "Genres                0\n",
       "Last_updated          0\n",
       "Current_version       8\n",
       "Android_version       3\n",
       "dtype: int64"
      ]
     },
     "execution_count": 10,
     "metadata": {},
     "output_type": "execute_result"
    }
   ],
   "source": [
    "#  Get the number of null values for each column\n",
    "df.isnull().sum()"
   ]
  },
  {
   "cell_type": "markdown",
   "id": "fe77709c",
   "metadata": {},
   "source": [
    "Our target variable is Rating, and is the variable with the most null values. So, we need to drop them because if we replace with zeros it will affect our model prediction.\n",
    "Since, there are only 1 missing in Type variable, 1 missing in Content Rating Variable, and 3 missing in Android Ver variable, we can dropp them too "
   ]
  },
  {
   "cell_type": "code",
   "execution_count": 11,
   "id": "872f899c",
   "metadata": {},
   "outputs": [],
   "source": [
    "# Since we are going to drop all null values in this particular scenario we can use:\n",
    "df.dropna(inplace = True)"
   ]
  },
  {
   "cell_type": "code",
   "execution_count": 12,
   "id": "ffad7055",
   "metadata": {},
   "outputs": [
    {
     "data": {
      "text/plain": [
       "App                0\n",
       "Category           0\n",
       "Rating             0\n",
       "Reviews            0\n",
       "Size               0\n",
       "Installs           0\n",
       "Type               0\n",
       "Price              0\n",
       "Content_rating     0\n",
       "Genres             0\n",
       "Last_updated       0\n",
       "Current_version    0\n",
       "Android_version    0\n",
       "dtype: int64"
      ]
     },
     "execution_count": 12,
     "metadata": {},
     "output_type": "execute_result"
    }
   ],
   "source": [
    "# Lets check for null values again:\n",
    "df.isnull().sum()"
   ]
  },
  {
   "cell_type": "code",
   "execution_count": 15,
   "id": "491a752c",
   "metadata": {},
   "outputs": [
    {
     "data": {
      "text/plain": [
       "(9360, 13)"
      ]
     },
     "execution_count": 15,
     "metadata": {},
     "output_type": "execute_result"
    }
   ],
   "source": [
    "# Lets check the shape of the dataframe\n",
    "df.shape"
   ]
  },
  {
   "cell_type": "code",
   "execution_count": 16,
   "id": "0b0bd0be",
   "metadata": {},
   "outputs": [
    {
     "name": "stdout",
     "output_type": "stream",
     "text": [
      "<class 'pandas.core.frame.DataFrame'>\n",
      "Int64Index: 9360 entries, 0 to 10840\n",
      "Data columns (total 13 columns):\n",
      " #   Column           Non-Null Count  Dtype  \n",
      "---  ------           --------------  -----  \n",
      " 0   App              9360 non-null   object \n",
      " 1   Category         9360 non-null   object \n",
      " 2   Rating           9360 non-null   float64\n",
      " 3   Reviews          9360 non-null   object \n",
      " 4   Size             9360 non-null   object \n",
      " 5   Installs         9360 non-null   object \n",
      " 6   Type             9360 non-null   object \n",
      " 7   Price            9360 non-null   object \n",
      " 8   Content_rating   9360 non-null   object \n",
      " 9   Genres           9360 non-null   object \n",
      " 10  Last_updated     9360 non-null   object \n",
      " 11  Current_version  9360 non-null   object \n",
      " 12  Android_version  9360 non-null   object \n",
      "dtypes: float64(1), object(12)\n",
      "memory usage: 1023.8+ KB\n"
     ]
    }
   ],
   "source": [
    "# Lets check the info on the dataframe again\n",
    "df.info()"
   ]
  },
  {
   "cell_type": "markdown",
   "id": "5d695c7c",
   "metadata": {},
   "source": [
    "- Fixing variables with incorrect type and inconsistent formatting\n",
    "\n",
    "a) Variables with incorrect data type:\n",
    " - Reviews (object) need to be changed to --> to_numeric (int/float)\n",
    " - Installs (object) need to be changed to --> integer\n",
    " - Price (object) need to be changed to --> numeric\n",
    " - Size (object) need to be changed to --> float\n",
    " - Last_updated, Current_version and Android_version may be needed it but per this exercise request, these columns need to be dropped later, so no need to perform anything in those variables\n",
    " \n",
    "b) Variables with incosistent formatting:\n",
    " - Price: '$' need to be replaced by ''\n",
    " - Size: column has sizes in Kb as well as Mb. Extract the numeric value from the column multiply the value by 1,000, if size is    mentioned in Mb"
   ]
  },
  {
   "cell_type": "markdown",
   "id": "2b6458f6",
   "metadata": {},
   "source": [
    "a) Fixing variables with incorrect data types"
   ]
  },
  {
   "cell_type": "code",
   "execution_count": 17,
   "id": "934455ea",
   "metadata": {},
   "outputs": [
    {
     "name": "stdout",
     "output_type": "stream",
     "text": [
      "App                 object\n",
      "Category            object\n",
      "Rating             float64\n",
      "Reviews              int64\n",
      "Size                object\n",
      "Installs            object\n",
      "Type                object\n",
      "Price               object\n",
      "Content_rating      object\n",
      "Genres              object\n",
      "Last_updated        object\n",
      "Current_version     object\n",
      "Android_version     object\n",
      "dtype: object\n"
     ]
    }
   ],
   "source": [
    "# variable: Reviews\n",
    "df['Reviews']  = pd.to_numeric(df['Reviews'])\n",
    "print(df.dtypes)\n"
   ]
  },
  {
   "cell_type": "code",
   "execution_count": 18,
   "id": "37122e9b",
   "metadata": {},
   "outputs": [
    {
     "name": "stdout",
     "output_type": "stream",
     "text": [
      "['10,000+' '500,000+' '5,000,000+' '50,000,000+' '100,000+' '50,000+'\n",
      " '1,000,000+' '10,000,000+' '5,000+' '100,000,000+' '1,000,000,000+'\n",
      " '1,000+' '500,000,000+' '100+' '500+' '10+' '5+' '50+' '1+']\n"
     ]
    }
   ],
   "source": [
    "# Variable 'Installs'. Lets check what values it contains:\n",
    "unique_v =df['Installs'].unique()\n",
    "print (unique_v)"
   ]
  },
  {
   "cell_type": "code",
   "execution_count": 19,
   "id": "d00d834b",
   "metadata": {},
   "outputs": [
    {
     "name": "stderr",
     "output_type": "stream",
     "text": [
      "<ipython-input-19-63595b9f9901>:3: FutureWarning: The default value of regex will change from True to False in a future version.\n",
      "  df['Installs'] = df['Installs'].str.replace('[,,+]','')\n"
     ]
    }
   ],
   "source": [
    "# So, This variable need to be converted to integer, but it contains special characteres like ',' and '+'. So, in order to do \n",
    "# that we need to replace them by '' then we can change the variable 'Installs' to integer\n",
    "df['Installs'] = df['Installs'].str.replace('[,,+]','')\n"
   ]
  },
  {
   "cell_type": "code",
   "execution_count": 20,
   "id": "3891fb9e",
   "metadata": {},
   "outputs": [
    {
     "name": "stdout",
     "output_type": "stream",
     "text": [
      "['10000' '500000' '5000000' '50000000' '100000' '50000' '1000000'\n",
      " '10000000' '5000' '100000000' '1000000000' '1000' '500000000' '100' '500'\n",
      " '10' '5' '50' '1']\n"
     ]
    }
   ],
   "source": [
    "# Lets double check \n",
    "unique_v =df['Installs'].unique()\n",
    "print (unique_v)"
   ]
  },
  {
   "cell_type": "code",
   "execution_count": 21,
   "id": "0fc984b7",
   "metadata": {},
   "outputs": [
    {
     "name": "stdout",
     "output_type": "stream",
     "text": [
      "App                 object\n",
      "Category            object\n",
      "Rating             float64\n",
      "Reviews              int64\n",
      "Size                object\n",
      "Installs             int64\n",
      "Type                object\n",
      "Price               object\n",
      "Content_rating      object\n",
      "Genres              object\n",
      "Last_updated        object\n",
      "Current_version     object\n",
      "Android_version     object\n",
      "dtype: object\n"
     ]
    }
   ],
   "source": [
    "# Now we can change the data type to integer\n",
    "df['Installs'] = pd.to_numeric(df['Installs'])\n",
    "print(df.dtypes)"
   ]
  },
  {
   "cell_type": "code",
   "execution_count": 22,
   "id": "c0aed5dd",
   "metadata": {},
   "outputs": [
    {
     "name": "stdout",
     "output_type": "stream",
     "text": [
      "['0' '$4.99' '$3.99' '$6.99' '$7.99' '$5.99' '$2.99' '$3.49' '$1.99'\n",
      " '$9.99' '$7.49' '$0.99' '$9.00' '$5.49' '$10.00' '$24.99' '$11.99'\n",
      " '$79.99' '$16.99' '$14.99' '$29.99' '$12.99' '$2.49' '$10.99' '$1.50'\n",
      " '$19.99' '$15.99' '$33.99' '$39.99' '$3.95' '$4.49' '$1.70' '$8.99'\n",
      " '$1.49' '$3.88' '$399.99' '$17.99' '$400.00' '$3.02' '$1.76' '$4.84'\n",
      " '$4.77' '$1.61' '$2.50' '$1.59' '$6.49' '$1.29' '$299.99' '$379.99'\n",
      " '$37.99' '$18.99' '$389.99' '$8.49' '$1.75' '$14.00' '$2.00' '$3.08'\n",
      " '$2.59' '$19.40' '$3.90' '$4.59' '$15.46' '$3.04' '$13.99' '$4.29'\n",
      " '$3.28' '$4.60' '$1.00' '$2.95' '$2.90' '$1.97' '$2.56' '$1.20']\n"
     ]
    }
   ],
   "source": [
    "# Variable: Price\n",
    "# Lets check to see if there is any sort of inconsistency\n",
    "unique_p =df['Price'].unique()\n",
    "print (unique_p)"
   ]
  },
  {
   "cell_type": "code",
   "execution_count": 23,
   "id": "0ad36f5d",
   "metadata": {},
   "outputs": [
    {
     "name": "stderr",
     "output_type": "stream",
     "text": [
      "<ipython-input-23-a683cd5a22e7>:2: FutureWarning: The default value of regex will change from True to False in a future version. In addition, single character regular expressions will*not* be treated as literal strings when regex=True.\n",
      "  df['Price'] = df['Price'].str.replace('$','')\n"
     ]
    }
   ],
   "source": [
    "# So, we have the $ sign that needs to be removed then convert it to numeric\n",
    "df['Price'] = df['Price'].str.replace('$','')\n",
    "# Change the datatype \n",
    "df['Price'] = pd.to_numeric(df['Price'])\n"
   ]
  },
  {
   "cell_type": "code",
   "execution_count": 24,
   "id": "22a7f552",
   "metadata": {},
   "outputs": [
    {
     "data": {
      "text/plain": [
       "array(['19M', '14M', '8.7M', '25M', '2.8M', '5.6M', '29M', '33M', '3.1M',\n",
       "       '28M', '12M', '20M', '21M', '37M', '5.5M', '17M', '39M', '31M',\n",
       "       '4.2M', '23M', '6.0M', '6.1M', '4.6M', '9.2M', '5.2M', '11M',\n",
       "       '24M', 'Varies with device', '9.4M', '15M', '10M', '1.2M', '26M',\n",
       "       '8.0M', '7.9M', '56M', '57M', '35M', '54M', '201k', '3.6M', '5.7M',\n",
       "       '8.6M', '2.4M', '27M', '2.7M', '2.5M', '7.0M', '16M', '3.4M',\n",
       "       '8.9M', '3.9M', '2.9M', '38M', '32M', '5.4M', '18M', '1.1M',\n",
       "       '2.2M', '4.5M', '9.8M', '52M', '9.0M', '6.7M', '30M', '2.6M',\n",
       "       '7.1M', '22M', '6.4M', '3.2M', '8.2M', '4.9M', '9.5M', '5.0M',\n",
       "       '5.9M', '13M', '73M', '6.8M', '3.5M', '4.0M', '2.3M', '2.1M',\n",
       "       '42M', '9.1M', '55M', '23k', '7.3M', '6.5M', '1.5M', '7.5M', '51M',\n",
       "       '41M', '48M', '8.5M', '46M', '8.3M', '4.3M', '4.7M', '3.3M', '40M',\n",
       "       '7.8M', '8.8M', '6.6M', '5.1M', '61M', '66M', '79k', '8.4M',\n",
       "       '3.7M', '118k', '44M', '695k', '1.6M', '6.2M', '53M', '1.4M',\n",
       "       '3.0M', '7.2M', '5.8M', '3.8M', '9.6M', '45M', '63M', '49M', '77M',\n",
       "       '4.4M', '70M', '9.3M', '8.1M', '36M', '6.9M', '7.4M', '84M', '97M',\n",
       "       '2.0M', '1.9M', '1.8M', '5.3M', '47M', '556k', '526k', '76M',\n",
       "       '7.6M', '59M', '9.7M', '78M', '72M', '43M', '7.7M', '6.3M', '334k',\n",
       "       '93M', '65M', '79M', '100M', '58M', '50M', '68M', '64M', '34M',\n",
       "       '67M', '60M', '94M', '9.9M', '232k', '99M', '624k', '95M', '8.5k',\n",
       "       '41k', '292k', '80M', '1.7M', '10.0M', '74M', '62M', '69M', '75M',\n",
       "       '98M', '85M', '82M', '96M', '87M', '71M', '86M', '91M', '81M',\n",
       "       '92M', '83M', '88M', '704k', '862k', '899k', '378k', '4.8M',\n",
       "       '266k', '375k', '1.3M', '975k', '980k', '4.1M', '89M', '696k',\n",
       "       '544k', '525k', '920k', '779k', '853k', '720k', '713k', '772k',\n",
       "       '318k', '58k', '241k', '196k', '857k', '51k', '953k', '865k',\n",
       "       '251k', '930k', '540k', '313k', '746k', '203k', '26k', '314k',\n",
       "       '239k', '371k', '220k', '730k', '756k', '91k', '293k', '17k',\n",
       "       '74k', '14k', '317k', '78k', '924k', '818k', '81k', '939k', '169k',\n",
       "       '45k', '965k', '90M', '545k', '61k', '283k', '655k', '714k', '93k',\n",
       "       '872k', '121k', '322k', '976k', '206k', '954k', '444k', '717k',\n",
       "       '210k', '609k', '308k', '306k', '175k', '350k', '383k', '454k',\n",
       "       '1.0M', '70k', '812k', '442k', '842k', '417k', '412k', '459k',\n",
       "       '478k', '335k', '782k', '721k', '430k', '429k', '192k', '460k',\n",
       "       '728k', '496k', '816k', '414k', '506k', '887k', '613k', '778k',\n",
       "       '683k', '592k', '186k', '840k', '647k', '373k', '437k', '598k',\n",
       "       '716k', '585k', '982k', '219k', '55k', '323k', '691k', '511k',\n",
       "       '951k', '963k', '25k', '554k', '351k', '27k', '82k', '208k',\n",
       "       '551k', '29k', '103k', '116k', '153k', '209k', '499k', '173k',\n",
       "       '597k', '809k', '122k', '411k', '400k', '801k', '787k', '50k',\n",
       "       '643k', '986k', '516k', '837k', '780k', '20k', '498k', '600k',\n",
       "       '656k', '221k', '228k', '176k', '34k', '259k', '164k', '458k',\n",
       "       '629k', '28k', '288k', '775k', '785k', '636k', '916k', '994k',\n",
       "       '309k', '485k', '914k', '903k', '608k', '500k', '54k', '562k',\n",
       "       '847k', '948k', '811k', '270k', '48k', '523k', '784k', '280k',\n",
       "       '24k', '892k', '154k', '18k', '33k', '860k', '364k', '387k',\n",
       "       '626k', '161k', '879k', '39k', '170k', '141k', '160k', '144k',\n",
       "       '143k', '190k', '376k', '193k', '473k', '246k', '73k', '253k',\n",
       "       '957k', '420k', '72k', '404k', '470k', '226k', '240k', '89k',\n",
       "       '234k', '257k', '861k', '467k', '676k', '552k', '582k', '619k'],\n",
       "      dtype=object)"
      ]
     },
     "execution_count": 24,
     "metadata": {},
     "output_type": "execute_result"
    }
   ],
   "source": [
    "# Variable: Size\n",
    "# Request: Size column has sizes in Kb as well as Mb. To analyze, you’ll need to convert these to numeric.\n",
    "# Lets check \n",
    "df['Size'].unique()\n"
   ]
  },
  {
   "cell_type": "markdown",
   "id": "afffef9f",
   "metadata": {},
   "source": [
    "It has the characters 'M', 'k' and the string 'Varies with device'"
   ]
  },
  {
   "cell_type": "code",
   "execution_count": 25,
   "id": "97f3aff2",
   "metadata": {},
   "outputs": [],
   "source": [
    "# Lets clean it\n",
    "# First, lets replace \"Varies with device\" with \"0k\"\n",
    "df['Size'] = df['Size'].replace(['Varies with device'],'0k')"
   ]
  },
  {
   "cell_type": "code",
   "execution_count": 26,
   "id": "ee79b40c",
   "metadata": {},
   "outputs": [
    {
     "data": {
      "text/plain": [
       "array(['19M', '14M', '8.7M', '25M', '2.8M', '5.6M', '29M', '33M', '3.1M',\n",
       "       '28M', '12M', '20M', '21M', '37M', '5.5M', '17M', '39M', '31M',\n",
       "       '4.2M', '23M', '6.0M', '6.1M', '4.6M', '9.2M', '5.2M', '11M',\n",
       "       '24M', '0k', '9.4M', '15M', '10M', '1.2M', '26M', '8.0M', '7.9M',\n",
       "       '56M', '57M', '35M', '54M', '201k', '3.6M', '5.7M', '8.6M', '2.4M',\n",
       "       '27M', '2.7M', '2.5M', '7.0M', '16M', '3.4M', '8.9M', '3.9M',\n",
       "       '2.9M', '38M', '32M', '5.4M', '18M', '1.1M', '2.2M', '4.5M',\n",
       "       '9.8M', '52M', '9.0M', '6.7M', '30M', '2.6M', '7.1M', '22M',\n",
       "       '6.4M', '3.2M', '8.2M', '4.9M', '9.5M', '5.0M', '5.9M', '13M',\n",
       "       '73M', '6.8M', '3.5M', '4.0M', '2.3M', '2.1M', '42M', '9.1M',\n",
       "       '55M', '23k', '7.3M', '6.5M', '1.5M', '7.5M', '51M', '41M', '48M',\n",
       "       '8.5M', '46M', '8.3M', '4.3M', '4.7M', '3.3M', '40M', '7.8M',\n",
       "       '8.8M', '6.6M', '5.1M', '61M', '66M', '79k', '8.4M', '3.7M',\n",
       "       '118k', '44M', '695k', '1.6M', '6.2M', '53M', '1.4M', '3.0M',\n",
       "       '7.2M', '5.8M', '3.8M', '9.6M', '45M', '63M', '49M', '77M', '4.4M',\n",
       "       '70M', '9.3M', '8.1M', '36M', '6.9M', '7.4M', '84M', '97M', '2.0M',\n",
       "       '1.9M', '1.8M', '5.3M', '47M', '556k', '526k', '76M', '7.6M',\n",
       "       '59M', '9.7M', '78M', '72M', '43M', '7.7M', '6.3M', '334k', '93M',\n",
       "       '65M', '79M', '100M', '58M', '50M', '68M', '64M', '34M', '67M',\n",
       "       '60M', '94M', '9.9M', '232k', '99M', '624k', '95M', '8.5k', '41k',\n",
       "       '292k', '80M', '1.7M', '10.0M', '74M', '62M', '69M', '75M', '98M',\n",
       "       '85M', '82M', '96M', '87M', '71M', '86M', '91M', '81M', '92M',\n",
       "       '83M', '88M', '704k', '862k', '899k', '378k', '4.8M', '266k',\n",
       "       '375k', '1.3M', '975k', '980k', '4.1M', '89M', '696k', '544k',\n",
       "       '525k', '920k', '779k', '853k', '720k', '713k', '772k', '318k',\n",
       "       '58k', '241k', '196k', '857k', '51k', '953k', '865k', '251k',\n",
       "       '930k', '540k', '313k', '746k', '203k', '26k', '314k', '239k',\n",
       "       '371k', '220k', '730k', '756k', '91k', '293k', '17k', '74k', '14k',\n",
       "       '317k', '78k', '924k', '818k', '81k', '939k', '169k', '45k',\n",
       "       '965k', '90M', '545k', '61k', '283k', '655k', '714k', '93k',\n",
       "       '872k', '121k', '322k', '976k', '206k', '954k', '444k', '717k',\n",
       "       '210k', '609k', '308k', '306k', '175k', '350k', '383k', '454k',\n",
       "       '1.0M', '70k', '812k', '442k', '842k', '417k', '412k', '459k',\n",
       "       '478k', '335k', '782k', '721k', '430k', '429k', '192k', '460k',\n",
       "       '728k', '496k', '816k', '414k', '506k', '887k', '613k', '778k',\n",
       "       '683k', '592k', '186k', '840k', '647k', '373k', '437k', '598k',\n",
       "       '716k', '585k', '982k', '219k', '55k', '323k', '691k', '511k',\n",
       "       '951k', '963k', '25k', '554k', '351k', '27k', '82k', '208k',\n",
       "       '551k', '29k', '103k', '116k', '153k', '209k', '499k', '173k',\n",
       "       '597k', '809k', '122k', '411k', '400k', '801k', '787k', '50k',\n",
       "       '643k', '986k', '516k', '837k', '780k', '20k', '498k', '600k',\n",
       "       '656k', '221k', '228k', '176k', '34k', '259k', '164k', '458k',\n",
       "       '629k', '28k', '288k', '775k', '785k', '636k', '916k', '994k',\n",
       "       '309k', '485k', '914k', '903k', '608k', '500k', '54k', '562k',\n",
       "       '847k', '948k', '811k', '270k', '48k', '523k', '784k', '280k',\n",
       "       '24k', '892k', '154k', '18k', '33k', '860k', '364k', '387k',\n",
       "       '626k', '161k', '879k', '39k', '170k', '141k', '160k', '144k',\n",
       "       '143k', '190k', '376k', '193k', '473k', '246k', '73k', '253k',\n",
       "       '957k', '420k', '72k', '404k', '470k', '226k', '240k', '89k',\n",
       "       '234k', '257k', '861k', '467k', '676k', '552k', '582k', '619k'],\n",
       "      dtype=object)"
      ]
     },
     "execution_count": 26,
     "metadata": {},
     "output_type": "execute_result"
    }
   ],
   "source": [
    "# Lets check it again\n",
    "df['Size'].unique()"
   ]
  },
  {
   "cell_type": "markdown",
   "id": "0122b9e4",
   "metadata": {},
   "source": [
    "Now, we have only 'M' and 'k'. In order to convert it we need to:\n",
    "- Extract the numeric value from the column\n",
    "- Multiply the value by 1,000, if size is mentioned in Mb"
   ]
  },
  {
   "cell_type": "markdown",
   "id": "85052aca",
   "metadata": {},
   "source": [
    "In order to do that, lets remove the \"M\", 'K\", and \"k\" and add it to another column named Measure, then do the calculations based\n",
    "on the type of measure, once the calculation is performed, dropp the column Measure since we don't need it "
   ]
  },
  {
   "cell_type": "code",
   "execution_count": 27,
   "id": "7a5c9062",
   "metadata": {},
   "outputs": [],
   "source": [
    "# First, lets extract the characters and move it to the new column 'Measure'\n",
    "df ['Measure'] = df['Size'].str[-1:]"
   ]
  },
  {
   "cell_type": "code",
   "execution_count": 28,
   "id": "36e55265",
   "metadata": {},
   "outputs": [],
   "source": [
    "# Now, lets remove the 'M' or 'k' \n",
    "df['Size'] = df['Size'].replace({'M':'','K':'','k':''},regex=True)"
   ]
  },
  {
   "cell_type": "code",
   "execution_count": 29,
   "id": "a5c3220d",
   "metadata": {},
   "outputs": [
    {
     "data": {
      "text/html": [
       "<div>\n",
       "<style scoped>\n",
       "    .dataframe tbody tr th:only-of-type {\n",
       "        vertical-align: middle;\n",
       "    }\n",
       "\n",
       "    .dataframe tbody tr th {\n",
       "        vertical-align: top;\n",
       "    }\n",
       "\n",
       "    .dataframe thead th {\n",
       "        text-align: right;\n",
       "    }\n",
       "</style>\n",
       "<table border=\"1\" class=\"dataframe\">\n",
       "  <thead>\n",
       "    <tr style=\"text-align: right;\">\n",
       "      <th></th>\n",
       "      <th>App</th>\n",
       "      <th>Category</th>\n",
       "      <th>Rating</th>\n",
       "      <th>Reviews</th>\n",
       "      <th>Size</th>\n",
       "      <th>Installs</th>\n",
       "      <th>Type</th>\n",
       "      <th>Price</th>\n",
       "      <th>Content_rating</th>\n",
       "      <th>Genres</th>\n",
       "      <th>Last_updated</th>\n",
       "      <th>Current_version</th>\n",
       "      <th>Android_version</th>\n",
       "      <th>Measure</th>\n",
       "    </tr>\n",
       "  </thead>\n",
       "  <tbody>\n",
       "    <tr>\n",
       "      <th>0</th>\n",
       "      <td>Photo Editor &amp; Candy Camera &amp; Grid &amp; ScrapBook</td>\n",
       "      <td>ART_AND_DESIGN</td>\n",
       "      <td>4.1</td>\n",
       "      <td>159</td>\n",
       "      <td>19</td>\n",
       "      <td>10000</td>\n",
       "      <td>Free</td>\n",
       "      <td>0.0</td>\n",
       "      <td>Everyone</td>\n",
       "      <td>Art &amp; Design</td>\n",
       "      <td>January 7, 2018</td>\n",
       "      <td>1.0.0</td>\n",
       "      <td>4.0.3 and up</td>\n",
       "      <td>M</td>\n",
       "    </tr>\n",
       "    <tr>\n",
       "      <th>1</th>\n",
       "      <td>Coloring book moana</td>\n",
       "      <td>ART_AND_DESIGN</td>\n",
       "      <td>3.9</td>\n",
       "      <td>967</td>\n",
       "      <td>14</td>\n",
       "      <td>500000</td>\n",
       "      <td>Free</td>\n",
       "      <td>0.0</td>\n",
       "      <td>Everyone</td>\n",
       "      <td>Art &amp; Design;Pretend Play</td>\n",
       "      <td>January 15, 2018</td>\n",
       "      <td>2.0.0</td>\n",
       "      <td>4.0.3 and up</td>\n",
       "      <td>M</td>\n",
       "    </tr>\n",
       "    <tr>\n",
       "      <th>2</th>\n",
       "      <td>U Launcher Lite – FREE Live Cool Themes, Hide ...</td>\n",
       "      <td>ART_AND_DESIGN</td>\n",
       "      <td>4.7</td>\n",
       "      <td>87510</td>\n",
       "      <td>8.7</td>\n",
       "      <td>5000000</td>\n",
       "      <td>Free</td>\n",
       "      <td>0.0</td>\n",
       "      <td>Everyone</td>\n",
       "      <td>Art &amp; Design</td>\n",
       "      <td>August 1, 2018</td>\n",
       "      <td>1.2.4</td>\n",
       "      <td>4.0.3 and up</td>\n",
       "      <td>M</td>\n",
       "    </tr>\n",
       "    <tr>\n",
       "      <th>3</th>\n",
       "      <td>Sketch - Draw &amp; Paint</td>\n",
       "      <td>ART_AND_DESIGN</td>\n",
       "      <td>4.5</td>\n",
       "      <td>215644</td>\n",
       "      <td>25</td>\n",
       "      <td>50000000</td>\n",
       "      <td>Free</td>\n",
       "      <td>0.0</td>\n",
       "      <td>Teen</td>\n",
       "      <td>Art &amp; Design</td>\n",
       "      <td>June 8, 2018</td>\n",
       "      <td>Varies with device</td>\n",
       "      <td>4.2 and up</td>\n",
       "      <td>M</td>\n",
       "    </tr>\n",
       "    <tr>\n",
       "      <th>4</th>\n",
       "      <td>Pixel Draw - Number Art Coloring Book</td>\n",
       "      <td>ART_AND_DESIGN</td>\n",
       "      <td>4.3</td>\n",
       "      <td>967</td>\n",
       "      <td>2.8</td>\n",
       "      <td>100000</td>\n",
       "      <td>Free</td>\n",
       "      <td>0.0</td>\n",
       "      <td>Everyone</td>\n",
       "      <td>Art &amp; Design;Creativity</td>\n",
       "      <td>June 20, 2018</td>\n",
       "      <td>1.1</td>\n",
       "      <td>4.4 and up</td>\n",
       "      <td>M</td>\n",
       "    </tr>\n",
       "  </tbody>\n",
       "</table>\n",
       "</div>"
      ],
      "text/plain": [
       "                                                 App        Category  Rating  \\\n",
       "0     Photo Editor & Candy Camera & Grid & ScrapBook  ART_AND_DESIGN     4.1   \n",
       "1                                Coloring book moana  ART_AND_DESIGN     3.9   \n",
       "2  U Launcher Lite – FREE Live Cool Themes, Hide ...  ART_AND_DESIGN     4.7   \n",
       "3                              Sketch - Draw & Paint  ART_AND_DESIGN     4.5   \n",
       "4              Pixel Draw - Number Art Coloring Book  ART_AND_DESIGN     4.3   \n",
       "\n",
       "   Reviews Size  Installs  Type  Price Content_rating  \\\n",
       "0      159   19     10000  Free    0.0       Everyone   \n",
       "1      967   14    500000  Free    0.0       Everyone   \n",
       "2    87510  8.7   5000000  Free    0.0       Everyone   \n",
       "3   215644   25  50000000  Free    0.0           Teen   \n",
       "4      967  2.8    100000  Free    0.0       Everyone   \n",
       "\n",
       "                      Genres      Last_updated     Current_version  \\\n",
       "0               Art & Design   January 7, 2018               1.0.0   \n",
       "1  Art & Design;Pretend Play  January 15, 2018               2.0.0   \n",
       "2               Art & Design    August 1, 2018               1.2.4   \n",
       "3               Art & Design      June 8, 2018  Varies with device   \n",
       "4    Art & Design;Creativity     June 20, 2018                 1.1   \n",
       "\n",
       "  Android_version Measure  \n",
       "0    4.0.3 and up       M  \n",
       "1    4.0.3 and up       M  \n",
       "2    4.0.3 and up       M  \n",
       "3      4.2 and up       M  \n",
       "4      4.4 and up       M  "
      ]
     },
     "execution_count": 29,
     "metadata": {},
     "output_type": "execute_result"
    }
   ],
   "source": [
    "#lets check it out\n",
    "df.head()"
   ]
  },
  {
   "cell_type": "code",
   "execution_count": 30,
   "id": "42889952",
   "metadata": {},
   "outputs": [],
   "source": [
    "# Now, in order to multiply by 100 we need to convert it to float data type\n",
    "df['Size'] = df ['Size'].astype(float)"
   ]
  },
  {
   "cell_type": "code",
   "execution_count": 31,
   "id": "6530250c",
   "metadata": {},
   "outputs": [],
   "source": [
    "# Make the conversion to k, multiplying by 1000 if the Measure = 'M'\n",
    "df['Size'] = np.where(df['Measure']=='M', df['Size']* 1000, df['Size'])"
   ]
  },
  {
   "cell_type": "code",
   "execution_count": 32,
   "id": "03951d65",
   "metadata": {},
   "outputs": [],
   "source": [
    "# After the calculation has been performed, we can drop the column 'Measure'\n",
    "# Since we are removing a column, lets create a new data frame, and call it app_rating\n",
    "app_rating = df.drop(['Measure'], axis = 1)\n"
   ]
  },
  {
   "cell_type": "code",
   "execution_count": 33,
   "id": "b0bc785a",
   "metadata": {},
   "outputs": [
    {
     "name": "stdout",
     "output_type": "stream",
     "text": [
      "<class 'pandas.core.frame.DataFrame'>\n",
      "Int64Index: 9360 entries, 0 to 10840\n",
      "Data columns (total 13 columns):\n",
      " #   Column           Non-Null Count  Dtype  \n",
      "---  ------           --------------  -----  \n",
      " 0   App              9360 non-null   object \n",
      " 1   Category         9360 non-null   object \n",
      " 2   Rating           9360 non-null   float64\n",
      " 3   Reviews          9360 non-null   int64  \n",
      " 4   Size             9360 non-null   float64\n",
      " 5   Installs         9360 non-null   int64  \n",
      " 6   Type             9360 non-null   object \n",
      " 7   Price            9360 non-null   float64\n",
      " 8   Content_rating   9360 non-null   object \n",
      " 9   Genres           9360 non-null   object \n",
      " 10  Last_updated     9360 non-null   object \n",
      " 11  Current_version  9360 non-null   object \n",
      " 12  Android_version  9360 non-null   object \n",
      "dtypes: float64(3), int64(2), object(8)\n",
      "memory usage: 1023.8+ KB\n"
     ]
    }
   ],
   "source": [
    "# lets check the new data frame\n",
    "app_rating.info()"
   ]
  },
  {
   "cell_type": "markdown",
   "id": "b46ee84d",
   "metadata": {},
   "source": [
    "b) Variables with incosistent formatting:\n",
    " - Price: '$' need to be replaced by ''\n",
    " - Size: column has sizes in Kb as well as Mb. Extract the numeric value from the column multiply the value by 1,000, if size is    mentioned in Mb\n",
    " These operations were performed above"
   ]
  },
  {
   "cell_type": "markdown",
   "id": "679417c1",
   "metadata": {},
   "source": [
    "5. Sanity checks:\n",
    "\n",
    "Average rating should be between 1 and 5 as only these values are allowed on the play store. Drop the rows that have a value outside this range.\n",
    "\n",
    "Reviews should not be more than installs as only those who installed can review the app. If there are any such records, drop them.\n",
    "\n",
    "For free apps (type = “Free”), the price should not be >0. Drop any such rows.\n"
   ]
  },
  {
   "cell_type": "code",
   "execution_count": 34,
   "id": "7c15e002",
   "metadata": {},
   "outputs": [
    {
     "data": {
      "text/plain": [
       "array([4.1, 3.9, 4.7, 4.5, 4.3, 4.4, 3.8, 4.2, 4.6, 4. , 4.8, 4.9, 3.6,\n",
       "       3.7, 3.2, 3.3, 3.4, 3.5, 3.1, 5. , 2.6, 3. , 1.9, 2.5, 2.8, 2.7,\n",
       "       1. , 2.9, 2.3, 2.2, 1.7, 2. , 1.8, 2.4, 1.6, 2.1, 1.4, 1.5, 1.2])"
      ]
     },
     "execution_count": 34,
     "metadata": {},
     "output_type": "execute_result"
    }
   ],
   "source": [
    "# Checking for the Average rating \n",
    "app_rating['Rating'].unique()"
   ]
  },
  {
   "cell_type": "code",
   "execution_count": 35,
   "id": "d7953f6e",
   "metadata": {},
   "outputs": [],
   "source": [
    "rating_bigger_5 = app_rating.Rating > 5"
   ]
  },
  {
   "cell_type": "code",
   "execution_count": 36,
   "id": "0f8f7969",
   "metadata": {},
   "outputs": [
    {
     "data": {
      "text/plain": [
       "False    9360\n",
       "Name: Rating, dtype: int64"
      ]
     },
     "execution_count": 36,
     "metadata": {},
     "output_type": "execute_result"
    }
   ],
   "source": [
    "rating_bigger_5.value_counts()"
   ]
  },
  {
   "cell_type": "code",
   "execution_count": 37,
   "id": "4fd17e35",
   "metadata": {},
   "outputs": [
    {
     "data": {
      "text/plain": [
       "False    9360\n",
       "Name: Rating, dtype: int64"
      ]
     },
     "execution_count": 37,
     "metadata": {},
     "output_type": "execute_result"
    }
   ],
   "source": [
    "rating_less_0 = app_rating.Rating < 0\n",
    "rating_less_0.value_counts()"
   ]
  },
  {
   "cell_type": "markdown",
   "id": "1aaf43f0",
   "metadata": {},
   "source": [
    "Observation: All ratings are in range"
   ]
  },
  {
   "cell_type": "markdown",
   "id": "4b8d5167",
   "metadata": {},
   "source": [
    " Checking for Reviews: Reviews should not be more than installs as only those who installed can review the app. \n",
    "If there are any such records, drop them."
   ]
  },
  {
   "cell_type": "code",
   "execution_count": 38,
   "id": "a30d698d",
   "metadata": {},
   "outputs": [
    {
     "data": {
      "text/plain": [
       "False    9353\n",
       "True        7\n",
       "dtype: int64"
      ]
     },
     "execution_count": 38,
     "metadata": {},
     "output_type": "execute_result"
    }
   ],
   "source": [
    "# If Reviews are bigger than Installs then drop it\n",
    "# Lets see if we have some records\n",
    "greater_reviews = app_rating.Reviews > app_rating.Installs\n",
    "greater_reviews.value_counts()"
   ]
  },
  {
   "cell_type": "code",
   "execution_count": 39,
   "id": "37cd0531",
   "metadata": {},
   "outputs": [],
   "source": [
    "# So, we have 7 records that we need to drop. Lets create a new data frame\n",
    "app_rating2 = app_rating[app_rating.Reviews < app_rating.Installs].copy()\n"
   ]
  },
  {
   "cell_type": "code",
   "execution_count": 40,
   "id": "34bafe3c",
   "metadata": {},
   "outputs": [
    {
     "name": "stdout",
     "output_type": "stream",
     "text": [
      "(9351, 13)\n"
     ]
    }
   ],
   "source": [
    "#Lets check the new data frame:\n",
    "print(app_rating2.shape)"
   ]
  },
  {
   "cell_type": "markdown",
   "id": "ebf06c33",
   "metadata": {},
   "source": [
    "For free apps (type = “Free”), the price should not be >0. Drop any such rows."
   ]
  },
  {
   "cell_type": "code",
   "execution_count": 41,
   "id": "a5fcc04b",
   "metadata": {},
   "outputs": [
    {
     "name": "stderr",
     "output_type": "stream",
     "text": [
      "<ipython-input-41-86e75fa0fe76>:2: UserWarning: Boolean Series key will be reindexed to match DataFrame index.\n",
      "  app_rating2[np.logical_and(app_rating['Type'] == 'Free', app_rating['Price'] > 0)]\n"
     ]
    },
    {
     "data": {
      "text/html": [
       "<div>\n",
       "<style scoped>\n",
       "    .dataframe tbody tr th:only-of-type {\n",
       "        vertical-align: middle;\n",
       "    }\n",
       "\n",
       "    .dataframe tbody tr th {\n",
       "        vertical-align: top;\n",
       "    }\n",
       "\n",
       "    .dataframe thead th {\n",
       "        text-align: right;\n",
       "    }\n",
       "</style>\n",
       "<table border=\"1\" class=\"dataframe\">\n",
       "  <thead>\n",
       "    <tr style=\"text-align: right;\">\n",
       "      <th></th>\n",
       "      <th>App</th>\n",
       "      <th>Category</th>\n",
       "      <th>Rating</th>\n",
       "      <th>Reviews</th>\n",
       "      <th>Size</th>\n",
       "      <th>Installs</th>\n",
       "      <th>Type</th>\n",
       "      <th>Price</th>\n",
       "      <th>Content_rating</th>\n",
       "      <th>Genres</th>\n",
       "      <th>Last_updated</th>\n",
       "      <th>Current_version</th>\n",
       "      <th>Android_version</th>\n",
       "    </tr>\n",
       "  </thead>\n",
       "  <tbody>\n",
       "  </tbody>\n",
       "</table>\n",
       "</div>"
      ],
      "text/plain": [
       "Empty DataFrame\n",
       "Columns: [App, Category, Rating, Reviews, Size, Installs, Type, Price, Content_rating, Genres, Last_updated, Current_version, Android_version]\n",
       "Index: []"
      ]
     },
     "execution_count": 41,
     "metadata": {},
     "output_type": "execute_result"
    }
   ],
   "source": [
    "# Lets check if there is any\n",
    "app_rating2[np.logical_and(app_rating['Type'] == 'Free', app_rating['Price'] > 0)]"
   ]
  },
  {
   "cell_type": "markdown",
   "id": "6b162599",
   "metadata": {},
   "source": [
    "No records found with Free type and price > 0"
   ]
  },
  {
   "cell_type": "markdown",
   "id": "ce729970",
   "metadata": {},
   "source": [
    "# 5. Performing univariate analysis: \n",
    "\n",
    "a) Boxplot for Price\n",
    "\n",
    "b) Are there any outliers? Think about the price of usual apps on Play Store.\n",
    "\n",
    "c) Boxplot for Reviews\n",
    "\n",
    "d) Are there any apps with very high number of reviews? Do the values seem right?\n",
    "\n",
    "e) Histogram for Rating\n",
    "\n",
    "f) How are the ratings distributed? Is it more toward higher ratings?\n",
    "\n",
    "g) Histogram for Size\n",
    "\n",
    "Note down your observations for the plots made above. Which of these seem to have outliers?"
   ]
  },
  {
   "cell_type": "code",
   "execution_count": 42,
   "id": "4f77ee09",
   "metadata": {},
   "outputs": [
    {
     "data": {
      "text/html": [
       "<div>\n",
       "<style scoped>\n",
       "    .dataframe tbody tr th:only-of-type {\n",
       "        vertical-align: middle;\n",
       "    }\n",
       "\n",
       "    .dataframe tbody tr th {\n",
       "        vertical-align: top;\n",
       "    }\n",
       "\n",
       "    .dataframe thead th {\n",
       "        text-align: right;\n",
       "    }\n",
       "</style>\n",
       "<table border=\"1\" class=\"dataframe\">\n",
       "  <thead>\n",
       "    <tr style=\"text-align: right;\">\n",
       "      <th></th>\n",
       "      <th>Rating</th>\n",
       "      <th>Reviews</th>\n",
       "      <th>Size</th>\n",
       "      <th>Installs</th>\n",
       "      <th>Price</th>\n",
       "    </tr>\n",
       "  </thead>\n",
       "  <tbody>\n",
       "    <tr>\n",
       "      <th>count</th>\n",
       "      <td>9351.000000</td>\n",
       "      <td>9.351000e+03</td>\n",
       "      <td>9351.000000</td>\n",
       "      <td>9.351000e+03</td>\n",
       "      <td>9351.000000</td>\n",
       "    </tr>\n",
       "    <tr>\n",
       "      <th>mean</th>\n",
       "      <td>4.191103</td>\n",
       "      <td>5.148707e+05</td>\n",
       "      <td>18961.045075</td>\n",
       "      <td>1.792598e+07</td>\n",
       "      <td>0.961673</td>\n",
       "    </tr>\n",
       "    <tr>\n",
       "      <th>std</th>\n",
       "      <td>0.514959</td>\n",
       "      <td>3.146496e+06</td>\n",
       "      <td>23026.586915</td>\n",
       "      <td>9.130859e+07</td>\n",
       "      <td>15.829226</td>\n",
       "    </tr>\n",
       "    <tr>\n",
       "      <th>min</th>\n",
       "      <td>1.000000</td>\n",
       "      <td>1.000000e+00</td>\n",
       "      <td>0.000000</td>\n",
       "      <td>5.000000e+00</td>\n",
       "      <td>0.000000</td>\n",
       "    </tr>\n",
       "    <tr>\n",
       "      <th>25%</th>\n",
       "      <td>4.000000</td>\n",
       "      <td>1.880000e+02</td>\n",
       "      <td>2400.000000</td>\n",
       "      <td>1.000000e+04</td>\n",
       "      <td>0.000000</td>\n",
       "    </tr>\n",
       "    <tr>\n",
       "      <th>50%</th>\n",
       "      <td>4.300000</td>\n",
       "      <td>5.968000e+03</td>\n",
       "      <td>9500.000000</td>\n",
       "      <td>5.000000e+05</td>\n",
       "      <td>0.000000</td>\n",
       "    </tr>\n",
       "    <tr>\n",
       "      <th>75%</th>\n",
       "      <td>4.500000</td>\n",
       "      <td>8.187600e+04</td>\n",
       "      <td>27000.000000</td>\n",
       "      <td>5.000000e+06</td>\n",
       "      <td>0.000000</td>\n",
       "    </tr>\n",
       "    <tr>\n",
       "      <th>max</th>\n",
       "      <td>5.000000</td>\n",
       "      <td>7.815831e+07</td>\n",
       "      <td>100000.000000</td>\n",
       "      <td>1.000000e+09</td>\n",
       "      <td>400.000000</td>\n",
       "    </tr>\n",
       "  </tbody>\n",
       "</table>\n",
       "</div>"
      ],
      "text/plain": [
       "            Rating       Reviews           Size      Installs        Price\n",
       "count  9351.000000  9.351000e+03    9351.000000  9.351000e+03  9351.000000\n",
       "mean      4.191103  5.148707e+05   18961.045075  1.792598e+07     0.961673\n",
       "std       0.514959  3.146496e+06   23026.586915  9.130859e+07    15.829226\n",
       "min       1.000000  1.000000e+00       0.000000  5.000000e+00     0.000000\n",
       "25%       4.000000  1.880000e+02    2400.000000  1.000000e+04     0.000000\n",
       "50%       4.300000  5.968000e+03    9500.000000  5.000000e+05     0.000000\n",
       "75%       4.500000  8.187600e+04   27000.000000  5.000000e+06     0.000000\n",
       "max       5.000000  7.815831e+07  100000.000000  1.000000e+09   400.000000"
      ]
     },
     "execution_count": 42,
     "metadata": {},
     "output_type": "execute_result"
    }
   ],
   "source": [
    "# Perform univariate \n",
    "app_rating2.describe()"
   ]
  },
  {
   "cell_type": "code",
   "execution_count": 43,
   "id": "a8f41b36",
   "metadata": {},
   "outputs": [
    {
     "data": {
      "image/png": "[encoded data removed]",
      "text/plain": [
       "<Figure size 432x288 with 1 Axes>"
      ]
     },
     "metadata": {
      "needs_background": "light"
     },
     "output_type": "display_data"
    }
   ],
   "source": [
    "#a) Boxplot for Price\n",
    "boxplot_price = app_rating2.boxplot(column = ['Price'])"
   ]
  },
  {
   "cell_type": "markdown",
   "id": "bff43e3b",
   "metadata": {},
   "source": [
    "b) Are there any outliers? Think about the price of usual apps on Play Store."
   ]
  },
  {
   "cell_type": "markdown",
   "id": "c4dd04c4",
   "metadata": {},
   "source": [
    "Yes, there are some outliers. The max price is 400, and the majority of the apps are free with a mean of 0.96 and a standard deviation of: 15.82"
   ]
  },
  {
   "cell_type": "markdown",
   "id": "5b5acd8f",
   "metadata": {},
   "source": [
    "c) Boxplot for Reviews"
   ]
  },
  {
   "cell_type": "code",
   "execution_count": 44,
   "id": "32f6280f",
   "metadata": {},
   "outputs": [
    {
     "data": {
      "image/png": "[encoded data removed]",
      "text/plain": [
       "<Figure size 432x288 with 1 Axes>"
      ]
     },
     "metadata": {
      "needs_background": "light"
     },
     "output_type": "display_data"
    }
   ],
   "source": [
    "boxplot_reviews = app_rating2.boxplot(column = ['Reviews'])\n"
   ]
  },
  {
   "cell_type": "markdown",
   "id": "bebb4350",
   "metadata": {},
   "source": [
    "d) Are there any apps with very high number of reviews? Do the values seem right?\n",
    "\n",
    "Yes, there are apps with very high number of reviews. The Reviews's mean is 5.14 millions so, basically the outliers stars at Reviews with more than 2 milions and the values of the outliers don't seem right"
   ]
  },
  {
   "cell_type": "markdown",
   "id": "ea4b872e",
   "metadata": {},
   "source": [
    "e) Histogram for Rating\n"
   ]
  },
  {
   "cell_type": "code",
   "execution_count": 45,
   "id": "85c8d319",
   "metadata": {},
   "outputs": [
    {
     "data": {
      "text/plain": [
       "<AxesSubplot:ylabel='Frequency'>"
      ]
     },
     "execution_count": 45,
     "metadata": {},
     "output_type": "execute_result"
    },
    {
     "data": {
      "image/png": "[encoded data removed]",
      "text/plain": [
       "<Figure size 432x288 with 1 Axes>"
      ]
     },
     "metadata": {
      "needs_background": "light"
     },
     "output_type": "display_data"
    }
   ],
   "source": [
    "# Create the Histogram to show the number of occurrences of different values in the Rating column\n",
    "app_rating2.Rating.plot.hist()"
   ]
  },
  {
   "cell_type": "markdown",
   "id": "702502c2",
   "metadata": {},
   "source": [
    "f) How are the ratings distributed? Is it more toward higher ratings?\n",
    "\n",
    "The ratings are increasing.Yes, they are toward higher rating. They are higher in 4.5 and then, they decrease a little bit"
   ]
  },
  {
   "cell_type": "markdown",
   "id": "56fe4c57",
   "metadata": {},
   "source": [
    "g) Histogram for Size"
   ]
  },
  {
   "cell_type": "code",
   "execution_count": 46,
   "id": "78573b67",
   "metadata": {},
   "outputs": [
    {
     "data": {
      "text/plain": [
       "<AxesSubplot:ylabel='Frequency'>"
      ]
     },
     "execution_count": 46,
     "metadata": {},
     "output_type": "execute_result"
    },
    {
     "data": {
      "image/png": "[encoded data removed]",
      "text/plain": [
       "<Figure size 432x288 with 1 Axes>"
      ]
     },
     "metadata": {
      "needs_background": "light"
     },
     "output_type": "display_data"
    }
   ],
   "source": [
    "app_rating2.Size.plot.hist()"
   ]
  },
  {
   "cell_type": "markdown",
   "id": "fe124e23",
   "metadata": {},
   "source": [
    "- Note down your observations for the plots made above. Which of these seem to have outliers?\n",
    "\n",
    "Price: Some outliers are present, apps with Price > 50 seems to be outliers\n",
    "\n",
    "Reviews: Some outliers are present, those apps with Reviews >200 millions seems to be outliers\n",
    "\n",
    "Rating: 75% of the rating are good reviews (4.5)\n",
    "\n",
    "Size: The majority of the apps size is below 27,000 k"
   ]
  },
  {
   "cell_type": "markdown",
   "id": "20233b90",
   "metadata": {},
   "source": [
    "## 6. Outlier treatment: \n",
    "\n",
    "Price: From the box plot, it seems like there are some apps with very high price. A price of $200 for an application on the Play Store is very high and suspicious!\n",
    "\n",
    "Check out the records with very high price\n",
    "\n",
    "Is 200 indeed a high price?\n",
    "\n",
    "Drop these as most seem to be junk apps\n",
    "\n"
   ]
  },
  {
   "cell_type": "code",
   "execution_count": 47,
   "id": "20b13883",
   "metadata": {},
   "outputs": [
    {
     "data": {
      "text/plain": [
       "App                             Category   Rating  Reviews  Size     Installs  Type  Price   Content_rating  Genres         Last_updated       Current_version  Android_version\n",
       "I AM RICH PRO PLUS              FINANCE    4.0     36       41000.0  1000      Paid  399.99  Everyone        Finance        June 25, 2018      1.0.2            4.1 and up         1\n",
       "I Am Rich                       FAMILY     3.6     217      4900.0   10000     Paid  389.99  Everyone        Entertainment  June 22, 2018      1.5              4.2 and up         1\n",
       "I Am Rich Premium               FINANCE    4.1     1867     4700.0   50000     Paid  399.99  Everyone        Finance        November 12, 2017  1.6              4.0 and up         1\n",
       "I Am Rich Pro                   FAMILY     4.4     201      2700.0   5000      Paid  399.99  Everyone        Entertainment  May 30, 2017       1.54             1.6 and up         1\n",
       "I am Rich                       FINANCE    4.3     180      3800.0   5000      Paid  399.99  Everyone        Finance        March 22, 2018     1.0              4.2 and up         1\n",
       "I am Rich Plus                  FAMILY     4.0     856      8700.0   10000     Paid  399.99  Everyone        Entertainment  May 19, 2018       3.0              4.4 and up         1\n",
       "I am Rich!                      FINANCE    3.8     93       22000.0  1000      Paid  399.99  Everyone        Finance        December 11, 2017  1.0              4.1 and up         1\n",
       "I am extremely Rich             LIFESTYLE  2.9     41       2900.0   1000      Paid  379.99  Everyone        Lifestyle      July 1, 2018       1.0              4.0 and up         1\n",
       "I am rich                       LIFESTYLE  3.8     3547     1800.0   100000    Paid  399.99  Everyone        Lifestyle      January 12, 2018   2.0              4.0.3 and up       1\n",
       "I am rich (Most expensive app)  FINANCE    4.1     129      2700.0   1000      Paid  399.99  Teen            Finance        December 6, 2017   2                4.0.3 and up       1\n",
       "I am rich VIP                   LIFESTYLE  3.8     411      2600.0   10000     Paid  299.99  Everyone        Lifestyle      July 21, 2018      1.1.1            4.3 and up         1\n",
       "I am rich(premium)              FINANCE    3.5     472      965.0    5000      Paid  399.99  Everyone        Finance        May 1, 2017        3.4              4.4 and up         1\n",
       "I'm Rich - Trump Edition        LIFESTYLE  3.6     275      7300.0   10000     Paid  400.00  Everyone        Lifestyle      May 3, 2018        1.0.1            4.1 and up         1\n",
       "most expensive app (H)          FAMILY     4.3     6        1500.0   100       Paid  399.99  Everyone        Entertainment  July 16, 2018      1.0              7.0 and up         1\n",
       "💎 I'm rich                      LIFESTYLE  3.8     718      26000.0  10000     Paid  399.99  Everyone        Lifestyle      March 11, 2018     1.0.0            4.4 and up         1\n",
       "dtype: int64"
      ]
     },
     "execution_count": 47,
     "metadata": {},
     "output_type": "execute_result"
    }
   ],
   "source": [
    "count_p = app_rating2[app_rating2[\"Price\"]> 200]\n",
    "count_p.value_counts()"
   ]
  },
  {
   "cell_type": "code",
   "execution_count": 48,
   "id": "19cd7e73",
   "metadata": {},
   "outputs": [
    {
     "data": {
      "text/plain": [
       "4362    1\n",
       "5351    1\n",
       "5354    1\n",
       "5355    1\n",
       "5356    1\n",
       "5357    1\n",
       "5358    1\n",
       "5359    1\n",
       "5362    1\n",
       "5364    1\n",
       "4367    1\n",
       "5369    1\n",
       "5366    1\n",
       "4197    1\n",
       "5373    1\n",
       "dtype: int64"
      ]
     },
     "execution_count": 48,
     "metadata": {},
     "output_type": "execute_result"
    }
   ],
   "source": [
    "count_price = app_rating2[app_rating2[\"Price\"]> 200].index\n",
    "count_price.value_counts()"
   ]
  },
  {
   "cell_type": "markdown",
   "id": "fdfafe9f",
   "metadata": {},
   "source": [
    "It seems those apps are the same with a high price and don't make sense. So, lets delete them"
   ]
  },
  {
   "cell_type": "code",
   "execution_count": 49,
   "id": "f9c2e088",
   "metadata": {},
   "outputs": [],
   "source": [
    "app_rating2.drop(count_price, inplace= True)"
   ]
  },
  {
   "cell_type": "code",
   "execution_count": 50,
   "id": "0b5ea17b",
   "metadata": {},
   "outputs": [
    {
     "data": {
      "text/plain": [
       "Series([], dtype: int64)"
      ]
     },
     "execution_count": 50,
     "metadata": {},
     "output_type": "execute_result"
    }
   ],
   "source": [
    "count_price = app_rating2[app_rating2[\"Price\"]> 200].index\n",
    "count_price.value_counts()"
   ]
  },
  {
   "cell_type": "code",
   "execution_count": 51,
   "id": "80f81e45",
   "metadata": {},
   "outputs": [
    {
     "data": {
      "text/plain": [
       "<seaborn.axisgrid.FacetGrid at 0x2b0563eb460>"
      ]
     },
     "execution_count": 51,
     "metadata": {},
     "output_type": "execute_result"
    },
    {
     "data": {
      "image/png": "[encoded data removed]",
      "text/plain": [
       "<Figure size 360x360 with 1 Axes>"
      ]
     },
     "metadata": {
      "needs_background": "light"
     },
     "output_type": "display_data"
    }
   ],
   "source": [
    "# Lets plot the data again\n",
    "sns.catplot(y=\"Price\", data= app_rating2, kind='box')"
   ]
  },
  {
   "cell_type": "markdown",
   "id": "bb8d14d5",
   "metadata": {},
   "source": [
    "Reviews: Very few apps have very high number of reviews. These are all star apps that don’t help with the analysis and,\n",
    "\n",
    "in fact, will skew it. Drop records having more than 2 million reviews.\n"
   ]
  },
  {
   "cell_type": "code",
   "execution_count": 52,
   "id": "28c8841e",
   "metadata": {},
   "outputs": [
    {
     "data": {
      "text/plain": [
       "App                                                 Category         Rating  Reviews   Size  Installs    Type  Price  Content_rating  Genres               Last_updated    Current_version     Android_version   \n",
       "eBay: Buy & Sell this Summer - Discover Deals Now!  SHOPPING         4.4     2788923   0.0   100000000   Free  0.0    Teen            Shopping             July 30, 2018   Varies with device  Varies with device    4\n",
       "Badoo - Free Chat & Dating App                      SOCIAL           4.3     3781770   0.0   100000000   Free  0.0    Mature 17+      Social               August 2, 2018  Varies with device  Varies with device    3\n",
       "ZEDGE™ Ringtones & Wallpapers                       PERSONALIZATION  4.6     6466641   0.0   100000000   Free  0.0    Teen            Personalization      July 19, 2018   Varies with device  Varies with device    3\n",
       "Skype - free IM & video calls                       COMMUNICATION    4.1     10484169  0.0   1000000000  Free  0.0    Everyone        Communication        August 3, 2018  Varies with device  Varies with device    3\n",
       "Duolingo: Learn Languages Free                      EDUCATION        4.7     6290507   0.0   100000000   Free  0.0    Everyone        Education;Education  August 1, 2018  Varies with device  Varies with device    3\n",
       "                                                                                                                                                                                                                    ..\n",
       "Google Chrome: Fast & Secure                        COMMUNICATION    4.3     9642995   0.0   1000000000  Free  0.0    Everyone        Communication        August 1, 2018  Varies with device  Varies with device    1\n",
       "                                                                             9642112   0.0   1000000000  Free  0.0    Everyone        Communication        August 1, 2018  Varies with device  Varies with device    1\n",
       "Google                                              TOOLS            4.4     8033493   0.0   1000000000  Free  0.0    Everyone        Tools                August 3, 2018  Varies with device  Varies with device    1\n",
       "                                                                             8021623   0.0   1000000000  Free  0.0    Everyone        Tools                August 3, 2018  Varies with device  Varies with device    1\n",
       "360 Security - Free Antivirus, Booster, Cleaner     TOOLS            4.6     16771865  0.0   100000000   Free  0.0    Everyone        Tools                August 4, 2018  Varies with device  Varies with device    1\n",
       "Length: 408, dtype: int64"
      ]
     },
     "execution_count": 52,
     "metadata": {},
     "output_type": "execute_result"
    }
   ],
   "source": [
    "indexReviews = app_rating2[app_rating2['Reviews'] > 2000000]\n",
    "indexReviews.value_counts()"
   ]
  },
  {
   "cell_type": "code",
   "execution_count": 53,
   "id": "e16b6ef7",
   "metadata": {},
   "outputs": [],
   "source": [
    "# Lets drop those \n",
    "indexReviews = app_rating2[app_rating2['Reviews'] > 2000000].index\n",
    "app_rating2.drop(indexReviews, inplace= True)\n"
   ]
  },
  {
   "cell_type": "code",
   "execution_count": 54,
   "id": "b0df023d",
   "metadata": {},
   "outputs": [
    {
     "data": {
      "text/plain": [
       "<seaborn.axisgrid.FacetGrid at 0x2b056380970>"
      ]
     },
     "execution_count": 54,
     "metadata": {},
     "output_type": "execute_result"
    },
    {
     "data": {
      "image/png": "[encoded data removed]",
      "text/plain": [
       "<Figure size 360x360 with 1 Axes>"
      ]
     },
     "metadata": {
      "needs_background": "light"
     },
     "output_type": "display_data"
    }
   ],
   "source": [
    "# Lets plot the data\n",
    "sns.catplot(y='Reviews', data= app_rating2, kind= 'box')"
   ]
  },
  {
   "cell_type": "markdown",
   "id": "7e423306",
   "metadata": {},
   "source": [
    "Installs:  There seems to be some outliers in this field too. Apps having very high number of installs should be dropped from the analysis.\n",
    "\n",
    "Find out the different percentiles – 10, 25, 50, 70, 90, 95, 99\n",
    "\n",
    "Decide a threshold as cutoff for outlier and drop records having values more than that"
   ]
  },
  {
   "cell_type": "code",
   "execution_count": 55,
   "id": "94d921f0",
   "metadata": {},
   "outputs": [
    {
     "data": {
      "image/png": "[encoded data removed]",
      "text/plain": [
       "<Figure size 432x288 with 1 Axes>"
      ]
     },
     "metadata": {
      "needs_background": "light"
     },
     "output_type": "display_data"
    }
   ],
   "source": [
    "# Lets plot the data\n",
    "boxplot_installs = app_rating2.boxplot(column = ['Installs'])"
   ]
  },
  {
   "cell_type": "code",
   "execution_count": 56,
   "id": "d959ba1e",
   "metadata": {},
   "outputs": [
    {
     "data": {
      "text/plain": [
       "1000000       1576\n",
       "10000000      1238\n",
       "100000        1149\n",
       "10000         1003\n",
       "5000000        752\n",
       "1000           708\n",
       "500000         537\n",
       "50000          465\n",
       "5000           428\n",
       "100            308\n",
       "50000000       247\n",
       "500            201\n",
       "100000000      122\n",
       "10              66\n",
       "50              56\n",
       "500000000       14\n",
       "5                7\n",
       "1000000000       6\n",
       "Name: Installs, dtype: int64"
      ]
     },
     "execution_count": 56,
     "metadata": {},
     "output_type": "execute_result"
    }
   ],
   "source": [
    "# Lets check how many we have\n",
    "app_rating2['Installs'].value_counts()"
   ]
  },
  {
   "cell_type": "code",
   "execution_count": null,
   "id": "e60848b4",
   "metadata": {},
   "outputs": [],
   "source": []
  },
  {
   "cell_type": "code",
   "execution_count": 57,
   "id": "3b833b4f",
   "metadata": {},
   "outputs": [
    {
     "data": {
      "text/plain": [
       "count    8.883000e+03\n",
       "mean     6.268790e+06\n",
       "std      3.540346e+07\n",
       "min      5.000000e+00\n",
       "10%      1.000000e+03\n",
       "25%      1.000000e+04\n",
       "50%      5.000000e+05\n",
       "70%      1.000000e+06\n",
       "90%      1.000000e+07\n",
       "95%      1.000000e+07\n",
       "99%      1.000000e+08\n",
       "max      1.000000e+09\n",
       "Name: Installs, dtype: float64"
      ]
     },
     "execution_count": 57,
     "metadata": {},
     "output_type": "execute_result"
    }
   ],
   "source": [
    "# It seems to be some outliers. Lets hence setting the threshold at 500000\n",
    "percentils = [.10, .25, .50, .70, .90, .95, .99]\n",
    "app_rating2['Installs'].describe(percentiles = percentils)"
   ]
  },
  {
   "cell_type": "code",
   "execution_count": 58,
   "id": "c2f12c25",
   "metadata": {},
   "outputs": [
    {
     "name": "stderr",
     "output_type": "stream",
     "text": [
      "C:\\Users\\eliza\\anaconda3\\lib\\site-packages\\seaborn\\distributions.py:2557: FutureWarning: `distplot` is a deprecated function and will be removed in a future version. Please adapt your code to use either `displot` (a figure-level function with similar flexibility) or `histplot` (an axes-level function for histograms).\n",
      "  warnings.warn(msg, FutureWarning)\n"
     ]
    },
    {
     "data": {
      "text/plain": [
       "<AxesSubplot:xlabel='Installs'>"
      ]
     },
     "execution_count": 58,
     "metadata": {},
     "output_type": "execute_result"
    },
    {
     "data": {
      "image/png": "[encoded data removed]",
      "text/plain": [
       "<Figure size 432x288 with 1 Axes>"
      ]
     },
     "metadata": {
      "needs_background": "light"
     },
     "output_type": "display_data"
    }
   ],
   "source": [
    "# Lets plot the data\n",
    "sns.distplot(app_rating2['Installs'], kde= False)"
   ]
  },
  {
   "cell_type": "code",
   "execution_count": 59,
   "id": "7ff2c546",
   "metadata": {},
   "outputs": [],
   "source": [
    "# Lets fix the outliers\n",
    "app_rating2.Installs = app_rating2.Installs.apply(func=np.log1p)"
   ]
  },
  {
   "cell_type": "code",
   "execution_count": 60,
   "id": "222dffc9",
   "metadata": {},
   "outputs": [
    {
     "data": {
      "text/plain": [
       "array([[<AxesSubplot:title={'center':'Installs'}>]], dtype=object)"
      ]
     },
     "execution_count": 60,
     "metadata": {},
     "output_type": "execute_result"
    },
    {
     "data": {
      "image/png": "[encoded data removed]",
      "text/plain": [
       "<Figure size 432x288 with 1 Axes>"
      ]
     },
     "metadata": {
      "needs_background": "light"
     },
     "output_type": "display_data"
    }
   ],
   "source": [
    "app_rating2.hist(column = ['Installs'])"
   ]
  },
  {
   "cell_type": "code",
   "execution_count": 61,
   "id": "5d4c0de7",
   "metadata": {},
   "outputs": [
    {
     "data": {
      "image/png": "[encoded data removed]",
      "text/plain": [
       "<Figure size 360x360 with 1 Axes>"
      ]
     },
     "metadata": {
      "needs_background": "light"
     },
     "output_type": "display_data"
    }
   ],
   "source": [
    "# Lets plot the data in a boxplot \n",
    "b_installs = sns.catplot(y='Installs', data= app_rating2, kind= 'box')"
   ]
  },
  {
   "cell_type": "markdown",
   "id": "b8746db3",
   "metadata": {},
   "source": [
    "# 7. Bivariate analysis:\n",
    "\n",
    "Let’s look at how the available predictors relate to the variable of interest, i.e., our target variable rating. Make scatter plots (for numeric features) and box plots (for character features) to assess the relations between rating and the other features.\n",
    "\n",
    "### Make scatter plot/joinplot for Rating vs. Price\n",
    "\n",
    "What pattern do you observe? Does rating increase with price?"
   ]
  },
  {
   "cell_type": "code",
   "execution_count": 62,
   "id": "b5039ad3",
   "metadata": {},
   "outputs": [
    {
     "data": {
      "text/plain": [
       "<AxesSubplot:xlabel='Rating', ylabel='Price'>"
      ]
     },
     "execution_count": 62,
     "metadata": {},
     "output_type": "execute_result"
    },
    {
     "data": {
      "image/png": "[encoded data removed]",
      "text/plain": [
       "<Figure size 720x504 with 1 Axes>"
      ]
     },
     "metadata": {
      "needs_background": "light"
     },
     "output_type": "display_data"
    }
   ],
   "source": [
    "# Lets plot Price vs Rating\n",
    "plt.figure(figsize = (10,7))\n",
    "sns.set_style(style = 'whitegrid',)\n",
    "sns.set(font_scale =1.2)\n",
    "sns.scatterplot(x = app_rating2.Rating, y = app_rating2.Price, hue= app_rating2.Rating)"
   ]
  },
  {
   "cell_type": "code",
   "execution_count": 63,
   "id": "a47883f0",
   "metadata": {},
   "outputs": [
    {
     "data": {
      "text/plain": [
       "<AxesSubplot:xlabel='Rating', ylabel='Price'>"
      ]
     },
     "execution_count": 63,
     "metadata": {},
     "output_type": "execute_result"
    },
    {
     "data": {
      "image/png": "[encoded data removed]",
      "text/plain": [
       "<Figure size 432x288 with 1 Axes>"
      ]
     },
     "metadata": {},
     "output_type": "display_data"
    }
   ],
   "source": [
    "# Lets plot with a regression line\n",
    "sns.regplot(x = app_rating2['Rating'], y = app_rating2['Price'] )"
   ]
  },
  {
   "cell_type": "markdown",
   "id": "c4825dc6",
   "metadata": {},
   "source": [
    "Observation: \n",
    "\n",
    "- Most apps show free, but it doesn't seem a relationship between free apps and high rating\n",
    "\n",
    "- The regression line shows a sligh positive correlation on the other hand most app are free or less than $15, so there is no conclusive"
   ]
  },
  {
   "cell_type": "markdown",
   "id": "1d6781f9",
   "metadata": {},
   "source": [
    "### Make scatter plot/joinplot for Rating vs. Size\n",
    "\n",
    "Are heavier apps rated better?"
   ]
  },
  {
   "cell_type": "code",
   "execution_count": 64,
   "id": "c02b236a",
   "metadata": {},
   "outputs": [
    {
     "data": {
      "text/plain": [
       "<AxesSubplot:xlabel='Rating', ylabel='Size'>"
      ]
     },
     "execution_count": 64,
     "metadata": {},
     "output_type": "execute_result"
    },
    {
     "data": {
      "image/png": "[encoded data removed]",
      "text/plain": [
       "<Figure size 720x504 with 1 Axes>"
      ]
     },
     "metadata": {},
     "output_type": "display_data"
    }
   ],
   "source": [
    "# Rating vs Size \n",
    "plt.figure(figsize =(10,7))\n",
    "sns.scatterplot(x = app_rating2['Rating'], y = app_rating2['Size'], hue = app_rating2['Rating'])\n",
    "                "
   ]
  },
  {
   "cell_type": "markdown",
   "id": "78fd3f4c",
   "metadata": {},
   "source": [
    "Observation:\n",
    "\n",
    " - The scatterplot shows that increase in size does not guarantee a high rating. The majority of heavier apps shows to have better rating"
   ]
  },
  {
   "cell_type": "markdown",
   "id": "3c7fe1b6",
   "metadata": {},
   "source": [
    "### Make scatter plot/joinplot for Rating vs. Reviews\n",
    "\n",
    "Does more review mean a better rating always?\n",
    "\n"
   ]
  },
  {
   "cell_type": "code",
   "execution_count": 65,
   "id": "cd9128c8",
   "metadata": {},
   "outputs": [
    {
     "data": {
      "text/plain": [
       "<AxesSubplot:xlabel='Rating', ylabel='Reviews'>"
      ]
     },
     "execution_count": 65,
     "metadata": {},
     "output_type": "execute_result"
    },
    {
     "data": {
      "image/png": "[encoded data removed]",
      "text/plain": [
       "<Figure size 720x504 with 1 Axes>"
      ]
     },
     "metadata": {},
     "output_type": "display_data"
    }
   ],
   "source": [
    "# Rating vs Reviews \n",
    "plt.figure(figsize =(10,7))\n",
    "sns.scatterplot(x = app_rating2['Rating'], y = app_rating2['Reviews'], hue = app_rating2['Rating'])"
   ]
  },
  {
   "cell_type": "markdown",
   "id": "7b7313c5",
   "metadata": {},
   "source": [
    "Observations:\n",
    "    \n",
    "- More reviews necessarily doesn't mean a better rating.\n",
    "\n",
    "- The tendency starts increasing but there are some values that tend to be lower after the value in the review > 4.5\n"
   ]
  },
  {
   "cell_type": "markdown",
   "id": "5f35874d",
   "metadata": {},
   "source": [
    "### Make boxplot for Rating vs. Content Rating\n",
    "\n",
    "Is there any difference in the ratings? Are some types liked better?\n"
   ]
  },
  {
   "cell_type": "code",
   "execution_count": 66,
   "id": "ff8bb3b6",
   "metadata": {},
   "outputs": [
    {
     "data": {
      "text/plain": [
       "<AxesSubplot:xlabel='Content_rating', ylabel='Rating'>"
      ]
     },
     "execution_count": 66,
     "metadata": {},
     "output_type": "execute_result"
    },
    {
     "data": {
      "image/png": "[encoded data removed]",
      "text/plain": [
       "<Figure size 1440x504 with 1 Axes>"
      ]
     },
     "metadata": {},
     "output_type": "display_data"
    }
   ],
   "source": [
    "# Lets plot the data Rating vs Content Rating\n",
    "plt.figure(figsize = (20,7))\n",
    "sns.boxplot(x= app_rating2['Content_rating'], y= app_rating2[\"Rating\"])"
   ]
  },
  {
   "cell_type": "markdown",
   "id": "64a351fc",
   "metadata": {},
   "source": [
    "Observations:\n",
    "\n",
    "- For the Content Rating of: Everyone, Teen, Everyone 10+ looks they are in a close range with the same Rating\n",
    "\n",
    "- For the Mature 17+ looks to have the lowest mean together with the group of Unrated\n",
    "\n",
    "- Meanwhile, Adults only 18+ have the highest mean"
   ]
  },
  {
   "cell_type": "markdown",
   "id": "5db90bc7",
   "metadata": {},
   "source": [
    "### Make boxplot for Ratings vs. Category\n",
    "\n",
    "Which genre has the best ratings?\n"
   ]
  },
  {
   "cell_type": "code",
   "execution_count": 67,
   "id": "6d50efd4",
   "metadata": {},
   "outputs": [
    {
     "data": {
      "image/png": "[encoded data removed]",
      "text/plain": [
       "<Figure size 1440x504 with 1 Axes>"
      ]
     },
     "metadata": {},
     "output_type": "display_data"
    }
   ],
   "source": [
    "# Lets plot the data Rating vs Content Rating\n",
    "plt.figure(figsize = (20,7))\n",
    "b_rating_content = sns.boxplot(x= app_rating2['Category'], y= app_rating2[\"Rating\"])\n",
    "plt.xticks( fontsize = 15, rotation = 90)\n",
    "plt.show()"
   ]
  },
  {
   "cell_type": "markdown",
   "id": "ad5900fe",
   "metadata": {},
   "source": [
    "Observations:\n",
    "\n",
    "- The Genres with the highest mean are Health and Fitness, Books and Reference and Events\n",
    "\n",
    "- The Genre with lower mean Rating is Dating"
   ]
  },
  {
   "cell_type": "markdown",
   "id": "68309bc0",
   "metadata": {},
   "source": [
    "### 8. Data preprocessing\n",
    "\n",
    "a) For the steps below, create a copy of the dataframe to make all the edits. Name it inp1.\n",
    "\n",
    "b) Reviews and Install have some values that are still relatively very high. Before building a linear regression model, you need to reduce the skew. Apply log transformation (np.log1p) to Reviews and Installs.\n",
    "\n",
    "c) Drop columns App, Last Updated, Current Ver, and Android Ver. These variables are not useful for our task.\n",
    "\n",
    "d) Get dummy columns for Category, Genres, and Content Rating. This needs to be done as the models do not understand categorical data, and all data should be numeric. Dummy encoding is one way to convert character fields to numeric. Name of dataframe should be inp2."
   ]
  },
  {
   "cell_type": "code",
   "execution_count": 68,
   "id": "f996284c",
   "metadata": {},
   "outputs": [],
   "source": [
    "# a) For the steps below, create a copy of the dataframe to make all the edits. Name it inp1.\n",
    "inp1 = app_rating2.copy()"
   ]
  },
  {
   "cell_type": "code",
   "execution_count": 69,
   "id": "d0d16a21",
   "metadata": {},
   "outputs": [],
   "source": [
    "# b) Reviews and Install have some values that are still relatively very high. Before building a linear regression model, \n",
    "# you need to reduce the skew. \n",
    "# Apply log transformation (np.log1p) to Reviews and Installs.\n",
    "\n",
    "inp1.Reviews = inp1.Reviews.apply(func=np.log1p)\n",
    "\n",
    "# For Intalls it was done in the outlier treatment"
   ]
  },
  {
   "cell_type": "code",
   "execution_count": 70,
   "id": "2deeff1f",
   "metadata": {},
   "outputs": [
    {
     "data": {
      "image/png": "[encoded data removed]",
      "text/plain": [
       "<Figure size 360x360 with 1 Axes>"
      ]
     },
     "metadata": {},
     "output_type": "display_data"
    }
   ],
   "source": [
    "# Lets plot the data again \n",
    "b_reviews = sns.catplot(y='Reviews', data= inp1, kind= 'box')"
   ]
  },
  {
   "cell_type": "code",
   "execution_count": 71,
   "id": "ddace38d",
   "metadata": {},
   "outputs": [],
   "source": [
    "# c) Drop columns App, Last Updated, Current Ver, and Android Ver. These variables are not useful for our task.\n",
    "inp1.drop(['App', \"Last_updated\", \"Current_version\", \"Android_version\"], axis=1, inplace = True)"
   ]
  },
  {
   "cell_type": "code",
   "execution_count": 72,
   "id": "e50bcc12",
   "metadata": {},
   "outputs": [
    {
     "name": "stdout",
     "output_type": "stream",
     "text": [
      "<class 'pandas.core.frame.DataFrame'>\n",
      "Int64Index: 8883 entries, 0 to 10840\n",
      "Data columns (total 9 columns):\n",
      " #   Column          Non-Null Count  Dtype  \n",
      "---  ------          --------------  -----  \n",
      " 0   Category        8883 non-null   object \n",
      " 1   Rating          8883 non-null   float64\n",
      " 2   Reviews         8883 non-null   float64\n",
      " 3   Size            8883 non-null   float64\n",
      " 4   Installs        8883 non-null   float64\n",
      " 5   Type            8883 non-null   object \n",
      " 6   Price           8883 non-null   float64\n",
      " 7   Content_rating  8883 non-null   object \n",
      " 8   Genres          8883 non-null   object \n",
      "dtypes: float64(5), object(4)\n",
      "memory usage: 952.0+ KB\n"
     ]
    }
   ],
   "source": [
    "# Lets see our new dataframe\n",
    "inp1.info()"
   ]
  },
  {
   "cell_type": "code",
   "execution_count": 73,
   "id": "2d0f5ed7",
   "metadata": {},
   "outputs": [],
   "source": [
    "# d) Get dummy columns for Category, Genres, and Content Rating. \n",
    "# This needs to be done as the models do not understand categorical data, and all data should be numeric. \n",
    "# Dummy encoding is one way to convert character fields to numeric. Name of dataframe should be inp2.\n",
    "\n",
    "# Getting dummy columns for the categorical data and drop the first row to avoid dummy variable trap\n",
    "inp2 = pd.get_dummies(inp1, drop_first = True)\n"
   ]
  },
  {
   "cell_type": "markdown",
   "id": "55a65336",
   "metadata": {},
   "source": [
    "### 9. Train test split  and apply 70-30 split. "
   ]
  },
  {
   "cell_type": "code",
   "execution_count": 74,
   "id": "aba7f6dc",
   "metadata": {},
   "outputs": [],
   "source": [
    "# Lets define the dependent and independent variable\n",
    "\n",
    "x = inp2.iloc[:,1:]\n",
    "y = inp2.iloc[:,:1]"
   ]
  },
  {
   "cell_type": "markdown",
   "id": "058d3ad4",
   "metadata": {},
   "source": [
    "### 10. Separate the dataframes into X_train, y_train, X_test, and y_test."
   ]
  },
  {
   "cell_type": "code",
   "execution_count": 75,
   "id": "66517464",
   "metadata": {},
   "outputs": [],
   "source": [
    "x_train, x_test, y_train, y_test = train_test_split(x, y, test_size= .30, random_state=1)"
   ]
  },
  {
   "cell_type": "markdown",
   "id": "01645ec3",
   "metadata": {},
   "source": [
    "### 11 . Model building\n",
    "\n",
    "Use linear regression as the technique\n",
    "\n",
    "Report the R2 on the train set"
   ]
  },
  {
   "cell_type": "code",
   "execution_count": 76,
   "id": "55e9fdd3",
   "metadata": {},
   "outputs": [],
   "source": [
    "regressor = LinearRegression()\n",
    "model = regressor.fit(x_train, y_train)"
   ]
  },
  {
   "cell_type": "markdown",
   "id": "714addda",
   "metadata": {},
   "source": [
    "### 12. Make predictions on test set and report R2."
   ]
  },
  {
   "cell_type": "code",
   "execution_count": 77,
   "id": "44478eba",
   "metadata": {},
   "outputs": [],
   "source": [
    "y_pred = regressor.predict(x_test)"
   ]
  },
  {
   "cell_type": "code",
   "execution_count": 78,
   "id": "9f3cd7b3",
   "metadata": {},
   "outputs": [
    {
     "data": {
      "text/html": [
       "<table class=\"simpletable\">\n",
       "<caption>OLS Regression Results</caption>\n",
       "<tr>\n",
       "  <th>Dep. Variable:</th>         <td>Rating</td>      <th>  R-squared (uncentered):</th>      <td>   0.987</td>\n",
       "</tr>\n",
       "<tr>\n",
       "  <th>Model:</th>                   <td>OLS</td>       <th>  Adj. R-squared (uncentered):</th> <td>   0.987</td>\n",
       "</tr>\n",
       "<tr>\n",
       "  <th>Method:</th>             <td>Least Squares</td>  <th>  F-statistic:       </th>          <td>   3711.</td>\n",
       "</tr>\n",
       "<tr>\n",
       "  <th>Date:</th>             <td>Tue, 25 Jan 2022</td> <th>  Prob (F-statistic):</th>           <td>  0.00</td> \n",
       "</tr>\n",
       "<tr>\n",
       "  <th>Time:</th>                 <td>20:00:07</td>     <th>  Log-Likelihood:    </th>          <td> -4298.0</td>\n",
       "</tr>\n",
       "<tr>\n",
       "  <th>No. Observations:</th>      <td>  6218</td>      <th>  AIC:               </th>          <td>   8842.</td>\n",
       "</tr>\n",
       "<tr>\n",
       "  <th>Df Residuals:</th>          <td>  6095</td>      <th>  BIC:               </th>          <td>   9670.</td>\n",
       "</tr>\n",
       "<tr>\n",
       "  <th>Df Model:</th>              <td>   123</td>      <th>                     </th>              <td> </td>   \n",
       "</tr>\n",
       "<tr>\n",
       "  <th>Covariance Type:</th>      <td>nonrobust</td>    <th>                     </th>              <td> </td>   \n",
       "</tr>\n",
       "</table>\n",
       "<table class=\"simpletable\">\n",
       "<tr>\n",
       "                        <td></td>                          <th>coef</th>     <th>std err</th>      <th>t</th>      <th>P>|t|</th>  <th>[0.025</th>    <th>0.975]</th>  \n",
       "</tr>\n",
       "<tr>\n",
       "  <th>Reviews</th>                                      <td>    0.1791</td> <td>    0.006</td> <td>   28.632</td> <td> 0.000</td> <td>    0.167</td> <td>    0.191</td>\n",
       "</tr>\n",
       "<tr>\n",
       "  <th>Size</th>                                         <td>-4.854e-07</td> <td> 3.26e-07</td> <td>   -1.489</td> <td> 0.136</td> <td>-1.12e-06</td> <td> 1.53e-07</td>\n",
       "</tr>\n",
       "<tr>\n",
       "  <th>Installs</th>                                     <td>   -0.1523</td> <td>    0.006</td> <td>  -24.457</td> <td> 0.000</td> <td>   -0.164</td> <td>   -0.140</td>\n",
       "</tr>\n",
       "<tr>\n",
       "  <th>Price</th>                                        <td>   -0.0014</td> <td>    0.003</td> <td>   -0.438</td> <td> 0.661</td> <td>   -0.008</td> <td>    0.005</td>\n",
       "</tr>\n",
       "<tr>\n",
       "  <th>Category_AUTO_AND_VEHICLES</th>                   <td>    1.1315</td> <td>    0.166</td> <td>    6.819</td> <td> 0.000</td> <td>    0.806</td> <td>    1.457</td>\n",
       "</tr>\n",
       "<tr>\n",
       "  <th>Category_BEAUTY</th>                              <td>    1.1799</td> <td>    0.169</td> <td>    6.994</td> <td> 0.000</td> <td>    0.849</td> <td>    1.511</td>\n",
       "</tr>\n",
       "<tr>\n",
       "  <th>Category_BOOKS_AND_REFERENCE</th>                 <td>    1.1257</td> <td>    0.164</td> <td>    6.863</td> <td> 0.000</td> <td>    0.804</td> <td>    1.447</td>\n",
       "</tr>\n",
       "<tr>\n",
       "  <th>Category_BUSINESS</th>                            <td>    1.0355</td> <td>    0.164</td> <td>    6.331</td> <td> 0.000</td> <td>    0.715</td> <td>    1.356</td>\n",
       "</tr>\n",
       "<tr>\n",
       "  <th>Category_COMICS</th>                              <td>    0.9923</td> <td>    0.167</td> <td>    5.934</td> <td> 0.000</td> <td>    0.664</td> <td>    1.320</td>\n",
       "</tr>\n",
       "<tr>\n",
       "  <th>Category_COMMUNICATION</th>                       <td>    0.9930</td> <td>    0.164</td> <td>    6.066</td> <td> 0.000</td> <td>    0.672</td> <td>    1.314</td>\n",
       "</tr>\n",
       "<tr>\n",
       "  <th>Category_DATING</th>                              <td>    0.9337</td> <td>    0.165</td> <td>    5.667</td> <td> 0.000</td> <td>    0.611</td> <td>    1.257</td>\n",
       "</tr>\n",
       "<tr>\n",
       "  <th>Category_EDUCATION</th>                           <td>    1.8005</td> <td>    0.329</td> <td>    5.469</td> <td> 0.000</td> <td>    1.155</td> <td>    2.446</td>\n",
       "</tr>\n",
       "<tr>\n",
       "  <th>Category_ENTERTAINMENT</th>                       <td>    1.7226</td> <td>    0.329</td> <td>    5.233</td> <td> 0.000</td> <td>    1.077</td> <td>    2.368</td>\n",
       "</tr>\n",
       "<tr>\n",
       "  <th>Category_EVENTS</th>                              <td>    1.2060</td> <td>    0.169</td> <td>    7.156</td> <td> 0.000</td> <td>    0.876</td> <td>    1.536</td>\n",
       "</tr>\n",
       "<tr>\n",
       "  <th>Category_FAMILY</th>                              <td>    1.8412</td> <td>    0.324</td> <td>    5.682</td> <td> 0.000</td> <td>    1.206</td> <td>    2.477</td>\n",
       "</tr>\n",
       "<tr>\n",
       "  <th>Category_FINANCE</th>                             <td>    1.0133</td> <td>    0.163</td> <td>    6.201</td> <td> 0.000</td> <td>    0.693</td> <td>    1.334</td>\n",
       "</tr>\n",
       "<tr>\n",
       "  <th>Category_FOOD_AND_DRINK</th>                      <td>    1.0257</td> <td>    0.165</td> <td>    6.214</td> <td> 0.000</td> <td>    0.702</td> <td>    1.349</td>\n",
       "</tr>\n",
       "<tr>\n",
       "  <th>Category_GAME</th>                                <td>    2.0490</td> <td>    0.325</td> <td>    6.300</td> <td> 0.000</td> <td>    1.411</td> <td>    2.686</td>\n",
       "</tr>\n",
       "<tr>\n",
       "  <th>Category_HEALTH_AND_FITNESS</th>                  <td>    1.0548</td> <td>    0.164</td> <td>    6.448</td> <td> 0.000</td> <td>    0.734</td> <td>    1.375</td>\n",
       "</tr>\n",
       "<tr>\n",
       "  <th>Category_HOUSE_AND_HOME</th>                      <td>    1.0762</td> <td>    0.166</td> <td>    6.483</td> <td> 0.000</td> <td>    0.751</td> <td>    1.402</td>\n",
       "</tr>\n",
       "<tr>\n",
       "  <th>Category_LIBRARIES_AND_DEMO</th>                  <td>    1.1193</td> <td>    0.167</td> <td>    6.711</td> <td> 0.000</td> <td>    0.792</td> <td>    1.446</td>\n",
       "</tr>\n",
       "<tr>\n",
       "  <th>Category_LIFESTYLE</th>                           <td>    1.3167</td> <td>    0.272</td> <td>    4.849</td> <td> 0.000</td> <td>    0.784</td> <td>    1.849</td>\n",
       "</tr>\n",
       "<tr>\n",
       "  <th>Category_MAPS_AND_NAVIGATION</th>                 <td>    0.9752</td> <td>    0.165</td> <td>    5.915</td> <td> 0.000</td> <td>    0.652</td> <td>    1.298</td>\n",
       "</tr>\n",
       "<tr>\n",
       "  <th>Category_MEDICAL</th>                             <td>    1.0810</td> <td>    0.163</td> <td>    6.614</td> <td> 0.000</td> <td>    0.761</td> <td>    1.401</td>\n",
       "</tr>\n",
       "<tr>\n",
       "  <th>Category_NEWS_AND_MAGAZINES</th>                  <td>    1.0071</td> <td>    0.164</td> <td>    6.151</td> <td> 0.000</td> <td>    0.686</td> <td>    1.328</td>\n",
       "</tr>\n",
       "<tr>\n",
       "  <th>Category_PARENTING</th>                           <td>    1.7399</td> <td>    0.288</td> <td>    6.047</td> <td> 0.000</td> <td>    1.176</td> <td>    2.304</td>\n",
       "</tr>\n",
       "<tr>\n",
       "  <th>Category_PERSONALIZATION</th>                     <td>    1.1052</td> <td>    0.164</td> <td>    6.758</td> <td> 0.000</td> <td>    0.785</td> <td>    1.426</td>\n",
       "</tr>\n",
       "<tr>\n",
       "  <th>Category_PHOTOGRAPHY</th>                         <td>    1.0208</td> <td>    0.164</td> <td>    6.238</td> <td> 0.000</td> <td>    0.700</td> <td>    1.342</td>\n",
       "</tr>\n",
       "<tr>\n",
       "  <th>Category_PRODUCTIVITY</th>                        <td>    1.0408</td> <td>    0.164</td> <td>    6.363</td> <td> 0.000</td> <td>    0.720</td> <td>    1.362</td>\n",
       "</tr>\n",
       "<tr>\n",
       "  <th>Category_SHOPPING</th>                            <td>    1.0530</td> <td>    0.164</td> <td>    6.423</td> <td> 0.000</td> <td>    0.732</td> <td>    1.374</td>\n",
       "</tr>\n",
       "<tr>\n",
       "  <th>Category_SOCIAL</th>                              <td>    1.0271</td> <td>    0.164</td> <td>    6.269</td> <td> 0.000</td> <td>    0.706</td> <td>    1.348</td>\n",
       "</tr>\n",
       "<tr>\n",
       "  <th>Category_SPORTS</th>                              <td>    2.0183</td> <td>    0.475</td> <td>    4.253</td> <td> 0.000</td> <td>    1.088</td> <td>    2.949</td>\n",
       "</tr>\n",
       "<tr>\n",
       "  <th>Category_TOOLS</th>                               <td>    1.0014</td> <td>    0.163</td> <td>    6.140</td> <td> 0.000</td> <td>    0.682</td> <td>    1.321</td>\n",
       "</tr>\n",
       "<tr>\n",
       "  <th>Category_TRAVEL_AND_LOCAL</th>                    <td>    1.0226</td> <td>    0.164</td> <td>    6.236</td> <td> 0.000</td> <td>    0.701</td> <td>    1.344</td>\n",
       "</tr>\n",
       "<tr>\n",
       "  <th>Category_VIDEO_PLAYERS</th>                       <td>    1.8412</td> <td>    0.586</td> <td>    3.144</td> <td> 0.002</td> <td>    0.693</td> <td>    2.989</td>\n",
       "</tr>\n",
       "<tr>\n",
       "  <th>Category_WEATHER</th>                             <td>    1.0312</td> <td>    0.167</td> <td>    6.180</td> <td> 0.000</td> <td>    0.704</td> <td>    1.358</td>\n",
       "</tr>\n",
       "<tr>\n",
       "  <th>Type_Paid</th>                                    <td>   -0.0624</td> <td>    0.032</td> <td>   -1.958</td> <td> 0.050</td> <td>   -0.125</td> <td> 6.98e-05</td>\n",
       "</tr>\n",
       "<tr>\n",
       "  <th>Content_rating_Everyone</th>                      <td>    2.4978</td> <td>    0.325</td> <td>    7.679</td> <td> 0.000</td> <td>    1.860</td> <td>    3.135</td>\n",
       "</tr>\n",
       "<tr>\n",
       "  <th>Content_rating_Everyone 10+</th>                  <td>    2.4957</td> <td>    0.326</td> <td>    7.644</td> <td> 0.000</td> <td>    1.856</td> <td>    3.136</td>\n",
       "</tr>\n",
       "<tr>\n",
       "  <th>Content_rating_Mature 17+</th>                    <td>    2.4895</td> <td>    0.327</td> <td>    7.608</td> <td> 0.000</td> <td>    1.848</td> <td>    3.131</td>\n",
       "</tr>\n",
       "<tr>\n",
       "  <th>Content_rating_Teen</th>                          <td>    2.5189</td> <td>    0.326</td> <td>    7.738</td> <td> 0.000</td> <td>    1.881</td> <td>    3.157</td>\n",
       "</tr>\n",
       "<tr>\n",
       "  <th>Content_rating_Unrated</th>                       <td> 9.981e-13</td> <td> 9.64e-12</td> <td>    0.104</td> <td> 0.918</td> <td>-1.79e-11</td> <td> 1.99e-11</td>\n",
       "</tr>\n",
       "<tr>\n",
       "  <th>Genres_Action;Action & Adventure</th>             <td>    0.2267</td> <td>    0.165</td> <td>    1.371</td> <td> 0.170</td> <td>   -0.097</td> <td>    0.551</td>\n",
       "</tr>\n",
       "<tr>\n",
       "  <th>Genres_Adventure</th>                             <td>   -0.0768</td> <td>    0.079</td> <td>   -0.974</td> <td> 0.330</td> <td>   -0.231</td> <td>    0.078</td>\n",
       "</tr>\n",
       "<tr>\n",
       "  <th>Genres_Adventure;Action & Adventure</th>          <td>    0.3490</td> <td>    0.494</td> <td>    0.707</td> <td> 0.480</td> <td>   -0.619</td> <td>    1.317</td>\n",
       "</tr>\n",
       "<tr>\n",
       "  <th>Genres_Adventure;Brain Games</th>                 <td> 4.183e-14</td> <td> 8.01e-13</td> <td>    0.052</td> <td> 0.958</td> <td>-1.53e-12</td> <td> 1.61e-12</td>\n",
       "</tr>\n",
       "<tr>\n",
       "  <th>Genres_Adventure;Education</th>                   <td>    0.0087</td> <td>    0.354</td> <td>    0.025</td> <td> 0.980</td> <td>   -0.685</td> <td>    0.702</td>\n",
       "</tr>\n",
       "<tr>\n",
       "  <th>Genres_Arcade</th>                                <td>    0.0330</td> <td>    0.057</td> <td>    0.574</td> <td> 0.566</td> <td>   -0.080</td> <td>    0.146</td>\n",
       "</tr>\n",
       "<tr>\n",
       "  <th>Genres_Arcade;Action & Adventure</th>             <td>    0.2020</td> <td>    0.188</td> <td>    1.073</td> <td> 0.283</td> <td>   -0.167</td> <td>    0.571</td>\n",
       "</tr>\n",
       "<tr>\n",
       "  <th>Genres_Arcade;Pretend Play</th>                   <td>    0.5054</td> <td>    0.494</td> <td>    1.023</td> <td> 0.306</td> <td>   -0.463</td> <td>    1.474</td>\n",
       "</tr>\n",
       "<tr>\n",
       "  <th>Genres_Art & Design</th>                          <td>    2.3853</td> <td>    0.335</td> <td>    7.110</td> <td> 0.000</td> <td>    1.728</td> <td>    3.043</td>\n",
       "</tr>\n",
       "<tr>\n",
       "  <th>Genres_Art & Design;Creativity</th>               <td>    1.8726</td> <td>    0.342</td> <td>    5.481</td> <td> 0.000</td> <td>    1.203</td> <td>    2.542</td>\n",
       "</tr>\n",
       "<tr>\n",
       "  <th>Genres_Art & Design;Pretend Play</th>             <td>    1.2549</td> <td>    0.386</td> <td>    3.251</td> <td> 0.001</td> <td>    0.498</td> <td>    2.012</td>\n",
       "</tr>\n",
       "<tr>\n",
       "  <th>Genres_Auto & Vehicles</th>                       <td>    1.1315</td> <td>    0.166</td> <td>    6.819</td> <td> 0.000</td> <td>    0.806</td> <td>    1.457</td>\n",
       "</tr>\n",
       "<tr>\n",
       "  <th>Genres_Beauty</th>                                <td>    1.1799</td> <td>    0.169</td> <td>    6.994</td> <td> 0.000</td> <td>    0.849</td> <td>    1.511</td>\n",
       "</tr>\n",
       "<tr>\n",
       "  <th>Genres_Board</th>                                 <td>    0.0380</td> <td>    0.092</td> <td>    0.413</td> <td> 0.679</td> <td>   -0.142</td> <td>    0.218</td>\n",
       "</tr>\n",
       "<tr>\n",
       "  <th>Genres_Board;Action & Adventure</th>              <td>    0.1390</td> <td>    0.292</td> <td>    0.476</td> <td> 0.634</td> <td>   -0.433</td> <td>    0.711</td>\n",
       "</tr>\n",
       "<tr>\n",
       "  <th>Genres_Board;Brain Games</th>                     <td>    0.3832</td> <td>    0.166</td> <td>    2.313</td> <td> 0.021</td> <td>    0.058</td> <td>    0.708</td>\n",
       "</tr>\n",
       "<tr>\n",
       "  <th>Genres_Board;Pretend Play</th>                    <td>    0.9597</td> <td>    0.494</td> <td>    1.942</td> <td> 0.052</td> <td>   -0.009</td> <td>    1.929</td>\n",
       "</tr>\n",
       "<tr>\n",
       "  <th>Genres_Books & Reference</th>                     <td>    1.1257</td> <td>    0.164</td> <td>    6.863</td> <td> 0.000</td> <td>    0.804</td> <td>    1.447</td>\n",
       "</tr>\n",
       "<tr>\n",
       "  <th>Genres_Books & Reference;Education</th>           <td>    0.2525</td> <td>    0.353</td> <td>    0.715</td> <td> 0.475</td> <td>   -0.440</td> <td>    0.945</td>\n",
       "</tr>\n",
       "<tr>\n",
       "  <th>Genres_Business</th>                              <td>    1.0355</td> <td>    0.164</td> <td>    6.331</td> <td> 0.000</td> <td>    0.715</td> <td>    1.356</td>\n",
       "</tr>\n",
       "<tr>\n",
       "  <th>Genres_Card</th>                                  <td>   -0.1963</td> <td>    0.095</td> <td>   -2.069</td> <td> 0.039</td> <td>   -0.382</td> <td>   -0.010</td>\n",
       "</tr>\n",
       "<tr>\n",
       "  <th>Genres_Card;Action & Adventure</th>               <td>   -0.0280</td> <td>    0.494</td> <td>   -0.057</td> <td> 0.955</td> <td>   -0.997</td> <td>    0.941</td>\n",
       "</tr>\n",
       "<tr>\n",
       "  <th>Genres_Card;Brain Games</th>                      <td>-8.451e-14</td> <td> 8.22e-13</td> <td>   -0.103</td> <td> 0.918</td> <td> -1.7e-12</td> <td> 1.53e-12</td>\n",
       "</tr>\n",
       "<tr>\n",
       "  <th>Genres_Casino</th>                                <td>    0.0389</td> <td>    0.101</td> <td>    0.386</td> <td> 0.700</td> <td>   -0.159</td> <td>    0.237</td>\n",
       "</tr>\n",
       "<tr>\n",
       "  <th>Genres_Casual</th>                                <td>    0.0869</td> <td>    0.083</td> <td>    1.052</td> <td> 0.293</td> <td>   -0.075</td> <td>    0.249</td>\n",
       "</tr>\n",
       "<tr>\n",
       "  <th>Genres_Casual;Action & Adventure</th>             <td>    0.1584</td> <td>    0.160</td> <td>    0.989</td> <td> 0.322</td> <td>   -0.155</td> <td>    0.472</td>\n",
       "</tr>\n",
       "<tr>\n",
       "  <th>Genres_Casual;Brain Games</th>                    <td>    0.5976</td> <td>    0.200</td> <td>    2.994</td> <td> 0.003</td> <td>    0.206</td> <td>    0.989</td>\n",
       "</tr>\n",
       "<tr>\n",
       "  <th>Genres_Casual;Creativity</th>                     <td>    0.4648</td> <td>    0.353</td> <td>    1.315</td> <td> 0.188</td> <td>   -0.228</td> <td>    1.158</td>\n",
       "</tr>\n",
       "<tr>\n",
       "  <th>Genres_Casual;Education</th>                      <td>    0.3279</td> <td>    0.292</td> <td>    1.124</td> <td> 0.261</td> <td>   -0.244</td> <td>    0.900</td>\n",
       "</tr>\n",
       "<tr>\n",
       "  <th>Genres_Casual;Music & Video</th>                  <td>    0.3362</td> <td>    0.494</td> <td>    0.681</td> <td> 0.496</td> <td>   -0.632</td> <td>    1.305</td>\n",
       "</tr>\n",
       "<tr>\n",
       "  <th>Genres_Casual;Pretend Play</th>                   <td>    0.1791</td> <td>    0.126</td> <td>    1.425</td> <td> 0.154</td> <td>   -0.067</td> <td>    0.425</td>\n",
       "</tr>\n",
       "<tr>\n",
       "  <th>Genres_Comics</th>                                <td>    0.9923</td> <td>    0.167</td> <td>    5.934</td> <td> 0.000</td> <td>    0.664</td> <td>    1.320</td>\n",
       "</tr>\n",
       "<tr>\n",
       "  <th>Genres_Comics;Creativity</th>                     <td>-8.561e-13</td> <td> 8.83e-12</td> <td>   -0.097</td> <td> 0.923</td> <td>-1.82e-11</td> <td> 1.65e-11</td>\n",
       "</tr>\n",
       "<tr>\n",
       "  <th>Genres_Communication</th>                         <td>    0.9930</td> <td>    0.164</td> <td>    6.066</td> <td> 0.000</td> <td>    0.672</td> <td>    1.314</td>\n",
       "</tr>\n",
       "<tr>\n",
       "  <th>Genres_Communication;Creativity</th>              <td>  4.45e-14</td> <td> 6.96e-14</td> <td>    0.640</td> <td> 0.523</td> <td>-9.19e-14</td> <td> 1.81e-13</td>\n",
       "</tr>\n",
       "<tr>\n",
       "  <th>Genres_Dating</th>                                <td>    0.9337</td> <td>    0.165</td> <td>    5.667</td> <td> 0.000</td> <td>    0.611</td> <td>    1.257</td>\n",
       "</tr>\n",
       "<tr>\n",
       "  <th>Genres_Education</th>                             <td>    0.4275</td> <td>    0.082</td> <td>    5.203</td> <td> 0.000</td> <td>    0.266</td> <td>    0.589</td>\n",
       "</tr>\n",
       "<tr>\n",
       "  <th>Genres_Education;Action & Adventure</th>          <td>    0.6816</td> <td>    0.256</td> <td>    2.661</td> <td> 0.008</td> <td>    0.179</td> <td>    1.184</td>\n",
       "</tr>\n",
       "<tr>\n",
       "  <th>Genres_Education;Brain Games</th>                 <td>    0.3052</td> <td>    0.294</td> <td>    1.037</td> <td> 0.300</td> <td>   -0.272</td> <td>    0.882</td>\n",
       "</tr>\n",
       "<tr>\n",
       "  <th>Genres_Education;Creativity</th>                  <td>    0.7020</td> <td>    0.233</td> <td>    3.019</td> <td> 0.003</td> <td>    0.246</td> <td>    1.158</td>\n",
       "</tr>\n",
       "<tr>\n",
       "  <th>Genres_Education;Education</th>                   <td>    0.4783</td> <td>    0.121</td> <td>    3.940</td> <td> 0.000</td> <td>    0.240</td> <td>    0.716</td>\n",
       "</tr>\n",
       "<tr>\n",
       "  <th>Genres_Education;Music & Video</th>               <td>    0.5026</td> <td>    0.292</td> <td>    1.719</td> <td> 0.086</td> <td>   -0.071</td> <td>    1.076</td>\n",
       "</tr>\n",
       "<tr>\n",
       "  <th>Genres_Education;Pretend Play</th>                <td>    0.5082</td> <td>    0.142</td> <td>    3.588</td> <td> 0.000</td> <td>    0.231</td> <td>    0.786</td>\n",
       "</tr>\n",
       "<tr>\n",
       "  <th>Genres_Educational</th>                           <td>   -0.0234</td> <td>    0.124</td> <td>   -0.188</td> <td> 0.851</td> <td>   -0.267</td> <td>    0.220</td>\n",
       "</tr>\n",
       "<tr>\n",
       "  <th>Genres_Educational;Action & Adventure</th>        <td>    0.2252</td> <td>    0.292</td> <td>    0.772</td> <td> 0.440</td> <td>   -0.347</td> <td>    0.798</td>\n",
       "</tr>\n",
       "<tr>\n",
       "  <th>Genres_Educational;Brain Games</th>               <td>    0.3720</td> <td>    0.231</td> <td>    1.608</td> <td> 0.108</td> <td>   -0.081</td> <td>    0.825</td>\n",
       "</tr>\n",
       "<tr>\n",
       "  <th>Genres_Educational;Creativity</th>                <td>    0.5701</td> <td>    0.292</td> <td>    1.952</td> <td> 0.051</td> <td>   -0.002</td> <td>    1.142</td>\n",
       "</tr>\n",
       "<tr>\n",
       "  <th>Genres_Educational;Education</th>                 <td>    0.4684</td> <td>    0.118</td> <td>    3.959</td> <td> 0.000</td> <td>    0.236</td> <td>    0.700</td>\n",
       "</tr>\n",
       "<tr>\n",
       "  <th>Genres_Educational;Pretend Play</th>              <td>    0.3234</td> <td>    0.151</td> <td>    2.140</td> <td> 0.032</td> <td>    0.027</td> <td>    0.620</td>\n",
       "</tr>\n",
       "<tr>\n",
       "  <th>Genres_Entertainment</th>                         <td>    0.2080</td> <td>    0.081</td> <td>    2.572</td> <td> 0.010</td> <td>    0.049</td> <td>    0.367</td>\n",
       "</tr>\n",
       "<tr>\n",
       "  <th>Genres_Entertainment;Action & Adventure</th>      <td>    0.1614</td> <td>    0.353</td> <td>    0.457</td> <td> 0.648</td> <td>   -0.531</td> <td>    0.854</td>\n",
       "</tr>\n",
       "<tr>\n",
       "  <th>Genres_Entertainment;Brain Games</th>             <td>    0.3538</td> <td>    0.214</td> <td>    1.651</td> <td> 0.099</td> <td>   -0.066</td> <td>    0.774</td>\n",
       "</tr>\n",
       "<tr>\n",
       "  <th>Genres_Entertainment;Creativity</th>              <td>    0.6017</td> <td>    0.293</td> <td>    2.056</td> <td> 0.040</td> <td>    0.028</td> <td>    1.175</td>\n",
       "</tr>\n",
       "<tr>\n",
       "  <th>Genres_Entertainment;Education</th>               <td>    0.5762</td> <td>    0.494</td> <td>    1.167</td> <td> 0.243</td> <td>   -0.392</td> <td>    1.544</td>\n",
       "</tr>\n",
       "<tr>\n",
       "  <th>Genres_Entertainment;Music & Video</th>           <td>    0.2831</td> <td>    0.135</td> <td>    2.097</td> <td> 0.036</td> <td>    0.018</td> <td>    0.548</td>\n",
       "</tr>\n",
       "<tr>\n",
       "  <th>Genres_Entertainment;Pretend Play</th>            <td>   -0.0535</td> <td>    0.353</td> <td>   -0.151</td> <td> 0.880</td> <td>   -0.746</td> <td>    0.639</td>\n",
       "</tr>\n",
       "<tr>\n",
       "  <th>Genres_Events</th>                                <td>    1.2060</td> <td>    0.169</td> <td>    7.156</td> <td> 0.000</td> <td>    0.876</td> <td>    1.536</td>\n",
       "</tr>\n",
       "<tr>\n",
       "  <th>Genres_Finance</th>                               <td>    1.0133</td> <td>    0.163</td> <td>    6.201</td> <td> 0.000</td> <td>    0.693</td> <td>    1.334</td>\n",
       "</tr>\n",
       "<tr>\n",
       "  <th>Genres_Food & Drink</th>                          <td>    1.0257</td> <td>    0.165</td> <td>    6.214</td> <td> 0.000</td> <td>    0.702</td> <td>    1.349</td>\n",
       "</tr>\n",
       "<tr>\n",
       "  <th>Genres_Health & Fitness</th>                      <td>    1.0548</td> <td>    0.164</td> <td>    6.448</td> <td> 0.000</td> <td>    0.734</td> <td>    1.375</td>\n",
       "</tr>\n",
       "<tr>\n",
       "  <th>Genres_Health & Fitness;Action & Adventure</th>   <td>   -0.1472</td> <td>    0.494</td> <td>   -0.298</td> <td> 0.766</td> <td>   -1.116</td> <td>    0.821</td>\n",
       "</tr>\n",
       "<tr>\n",
       "  <th>Genres_Health & Fitness;Education</th>            <td>    0.4941</td> <td>    0.494</td> <td>    1.001</td> <td> 0.317</td> <td>   -0.474</td> <td>    1.462</td>\n",
       "</tr>\n",
       "<tr>\n",
       "  <th>Genres_House & Home</th>                          <td>    1.0762</td> <td>    0.166</td> <td>    6.483</td> <td> 0.000</td> <td>    0.751</td> <td>    1.402</td>\n",
       "</tr>\n",
       "<tr>\n",
       "  <th>Genres_Libraries & Demo</th>                      <td>    1.1193</td> <td>    0.167</td> <td>    6.711</td> <td> 0.000</td> <td>    0.792</td> <td>    1.446</td>\n",
       "</tr>\n",
       "<tr>\n",
       "  <th>Genres_Lifestyle</th>                             <td>    0.7514</td> <td>    0.197</td> <td>    3.816</td> <td> 0.000</td> <td>    0.365</td> <td>    1.137</td>\n",
       "</tr>\n",
       "<tr>\n",
       "  <th>Genres_Lifestyle;Education</th>                   <td>    0.2719</td> <td>    0.494</td> <td>    0.550</td> <td> 0.582</td> <td>   -0.696</td> <td>    1.240</td>\n",
       "</tr>\n",
       "<tr>\n",
       "  <th>Genres_Lifestyle;Pretend Play</th>                <td>    0.5654</td> <td>    0.344</td> <td>    1.645</td> <td> 0.100</td> <td>   -0.108</td> <td>    1.239</td>\n",
       "</tr>\n",
       "<tr>\n",
       "  <th>Genres_Maps & Navigation</th>                     <td>    0.9752</td> <td>    0.165</td> <td>    5.915</td> <td> 0.000</td> <td>    0.652</td> <td>    1.298</td>\n",
       "</tr>\n",
       "<tr>\n",
       "  <th>Genres_Medical</th>                               <td>    1.0810</td> <td>    0.163</td> <td>    6.614</td> <td> 0.000</td> <td>    0.761</td> <td>    1.401</td>\n",
       "</tr>\n",
       "<tr>\n",
       "  <th>Genres_Music</th>                                 <td>   -0.0648</td> <td>    0.127</td> <td>   -0.509</td> <td> 0.611</td> <td>   -0.315</td> <td>    0.185</td>\n",
       "</tr>\n",
       "<tr>\n",
       "  <th>Genres_Music & Audio;Music & Video</th>           <td>    0.6707</td> <td>    0.494</td> <td>    1.358</td> <td> 0.175</td> <td>   -0.298</td> <td>    1.639</td>\n",
       "</tr>\n",
       "<tr>\n",
       "  <th>Genres_Music;Music & Video</th>                   <td>    0.5457</td> <td>    0.292</td> <td>    1.871</td> <td> 0.061</td> <td>   -0.026</td> <td>    1.118</td>\n",
       "</tr>\n",
       "<tr>\n",
       "  <th>Genres_News & Magazines</th>                      <td>    1.0071</td> <td>    0.164</td> <td>    6.151</td> <td> 0.000</td> <td>    0.686</td> <td>    1.328</td>\n",
       "</tr>\n",
       "<tr>\n",
       "  <th>Genres_Parenting</th>                             <td>    0.5934</td> <td>    0.152</td> <td>    3.898</td> <td> 0.000</td> <td>    0.295</td> <td>    0.892</td>\n",
       "</tr>\n",
       "<tr>\n",
       "  <th>Genres_Parenting;Brain Games</th>                 <td>    0.2006</td> <td>    0.402</td> <td>    0.498</td> <td> 0.618</td> <td>   -0.588</td> <td>    0.990</td>\n",
       "</tr>\n",
       "<tr>\n",
       "  <th>Genres_Parenting;Education</th>                   <td>    0.2661</td> <td>    0.258</td> <td>    1.030</td> <td> 0.303</td> <td>   -0.240</td> <td>    0.773</td>\n",
       "</tr>\n",
       "<tr>\n",
       "  <th>Genres_Parenting;Music & Video</th>               <td>    0.6798</td> <td>    0.218</td> <td>    3.113</td> <td> 0.002</td> <td>    0.252</td> <td>    1.108</td>\n",
       "</tr>\n",
       "<tr>\n",
       "  <th>Genres_Personalization</th>                       <td>    1.1052</td> <td>    0.164</td> <td>    6.758</td> <td> 0.000</td> <td>    0.785</td> <td>    1.426</td>\n",
       "</tr>\n",
       "<tr>\n",
       "  <th>Genres_Photography</th>                           <td>    1.0208</td> <td>    0.164</td> <td>    6.238</td> <td> 0.000</td> <td>    0.700</td> <td>    1.342</td>\n",
       "</tr>\n",
       "<tr>\n",
       "  <th>Genres_Productivity</th>                          <td>    1.0408</td> <td>    0.164</td> <td>    6.363</td> <td> 0.000</td> <td>    0.720</td> <td>    1.362</td>\n",
       "</tr>\n",
       "<tr>\n",
       "  <th>Genres_Puzzle</th>                                <td>    0.2833</td> <td>    0.082</td> <td>    3.448</td> <td> 0.001</td> <td>    0.122</td> <td>    0.444</td>\n",
       "</tr>\n",
       "<tr>\n",
       "  <th>Genres_Puzzle;Action & Adventure</th>             <td>    0.2567</td> <td>    0.292</td> <td>    0.879</td> <td> 0.379</td> <td>   -0.316</td> <td>    0.829</td>\n",
       "</tr>\n",
       "<tr>\n",
       "  <th>Genres_Puzzle;Brain Games</th>                    <td>    0.3576</td> <td>    0.147</td> <td>    2.430</td> <td> 0.015</td> <td>    0.069</td> <td>    0.646</td>\n",
       "</tr>\n",
       "<tr>\n",
       "  <th>Genres_Puzzle;Creativity</th>                     <td>    0.1798</td> <td>    0.494</td> <td>    0.364</td> <td> 0.716</td> <td>   -0.788</td> <td>    1.148</td>\n",
       "</tr>\n",
       "<tr>\n",
       "  <th>Genres_Puzzle;Education</th>                      <td>    0.8202</td> <td>    0.494</td> <td>    1.661</td> <td> 0.097</td> <td>   -0.148</td> <td>    1.788</td>\n",
       "</tr>\n",
       "<tr>\n",
       "  <th>Genres_Racing</th>                                <td>   -0.0608</td> <td>    0.077</td> <td>   -0.795</td> <td> 0.427</td> <td>   -0.211</td> <td>    0.089</td>\n",
       "</tr>\n",
       "<tr>\n",
       "  <th>Genres_Racing;Action & Adventure</th>             <td>    0.3559</td> <td>    0.151</td> <td>    2.354</td> <td> 0.019</td> <td>    0.060</td> <td>    0.652</td>\n",
       "</tr>\n",
       "<tr>\n",
       "  <th>Genres_Racing;Pretend Play</th>                   <td>    0.9220</td> <td>    0.494</td> <td>    1.866</td> <td> 0.062</td> <td>   -0.047</td> <td>    1.891</td>\n",
       "</tr>\n",
       "<tr>\n",
       "  <th>Genres_Role Playing</th>                          <td>    0.0949</td> <td>    0.086</td> <td>    1.108</td> <td> 0.268</td> <td>   -0.073</td> <td>    0.263</td>\n",
       "</tr>\n",
       "<tr>\n",
       "  <th>Genres_Role Playing;Action & Adventure</th>       <td>    0.1549</td> <td>    0.255</td> <td>    0.606</td> <td> 0.544</td> <td>   -0.346</td> <td>    0.656</td>\n",
       "</tr>\n",
       "<tr>\n",
       "  <th>Genres_Role Playing;Brain Games</th>              <td>    0.3058</td> <td>    0.494</td> <td>    0.619</td> <td> 0.536</td> <td>   -0.662</td> <td>    1.274</td>\n",
       "</tr>\n",
       "<tr>\n",
       "  <th>Genres_Role Playing;Pretend Play</th>             <td>    0.0823</td> <td>    0.256</td> <td>    0.322</td> <td> 0.747</td> <td>   -0.419</td> <td>    0.584</td>\n",
       "</tr>\n",
       "<tr>\n",
       "  <th>Genres_Shopping</th>                              <td>    1.0530</td> <td>    0.164</td> <td>    6.423</td> <td> 0.000</td> <td>    0.732</td> <td>    1.374</td>\n",
       "</tr>\n",
       "<tr>\n",
       "  <th>Genres_Simulation</th>                            <td>    0.1847</td> <td>    0.083</td> <td>    2.222</td> <td> 0.026</td> <td>    0.022</td> <td>    0.348</td>\n",
       "</tr>\n",
       "<tr>\n",
       "  <th>Genres_Simulation;Action & Adventure</th>         <td>    0.3972</td> <td>    0.197</td> <td>    2.019</td> <td> 0.044</td> <td>    0.012</td> <td>    0.783</td>\n",
       "</tr>\n",
       "<tr>\n",
       "  <th>Genres_Simulation;Education</th>                  <td>    0.0488</td> <td>    0.349</td> <td>    0.140</td> <td> 0.889</td> <td>   -0.636</td> <td>    0.734</td>\n",
       "</tr>\n",
       "<tr>\n",
       "  <th>Genres_Simulation;Pretend Play</th>               <td>    0.2501</td> <td>    0.292</td> <td>    0.857</td> <td> 0.391</td> <td>   -0.322</td> <td>    0.822</td>\n",
       "</tr>\n",
       "<tr>\n",
       "  <th>Genres_Social</th>                                <td>    1.0271</td> <td>    0.164</td> <td>    6.269</td> <td> 0.000</td> <td>    0.706</td> <td>    1.348</td>\n",
       "</tr>\n",
       "<tr>\n",
       "  <th>Genres_Sports</th>                                <td>    0.0511</td> <td>    0.347</td> <td>    0.147</td> <td> 0.883</td> <td>   -0.630</td> <td>    0.732</td>\n",
       "</tr>\n",
       "<tr>\n",
       "  <th>Genres_Sports;Action & Adventure</th>             <td>    0.0953</td> <td>    0.292</td> <td>    0.326</td> <td> 0.744</td> <td>   -0.477</td> <td>    0.668</td>\n",
       "</tr>\n",
       "<tr>\n",
       "  <th>Genres_Strategy</th>                              <td>    0.0407</td> <td>    0.094</td> <td>    0.432</td> <td> 0.666</td> <td>   -0.144</td> <td>    0.225</td>\n",
       "</tr>\n",
       "<tr>\n",
       "  <th>Genres_Strategy;Action & Adventure</th>           <td>    0.4759</td> <td>    0.353</td> <td>    1.347</td> <td> 0.178</td> <td>   -0.217</td> <td>    1.168</td>\n",
       "</tr>\n",
       "<tr>\n",
       "  <th>Genres_Strategy;Creativity</th>                   <td>    0.0874</td> <td>    0.494</td> <td>    0.177</td> <td> 0.860</td> <td>   -0.881</td> <td>    1.056</td>\n",
       "</tr>\n",
       "<tr>\n",
       "  <th>Genres_Strategy;Education</th>                    <td>    0.8130</td> <td>    0.494</td> <td>    1.646</td> <td> 0.100</td> <td>   -0.155</td> <td>    1.781</td>\n",
       "</tr>\n",
       "<tr>\n",
       "  <th>Genres_Tools</th>                                 <td>    1.0014</td> <td>    0.163</td> <td>    6.140</td> <td> 0.000</td> <td>    0.682</td> <td>    1.321</td>\n",
       "</tr>\n",
       "<tr>\n",
       "  <th>Genres_Tools;Education</th>                       <td>         0</td> <td>        0</td> <td>      nan</td> <td>   nan</td> <td>        0</td> <td>        0</td>\n",
       "</tr>\n",
       "<tr>\n",
       "  <th>Genres_Travel & Local</th>                        <td>    1.0226</td> <td>    0.164</td> <td>    6.236</td> <td> 0.000</td> <td>    0.701</td> <td>    1.344</td>\n",
       "</tr>\n",
       "<tr>\n",
       "  <th>Genres_Travel & Local;Action & Adventure</th>     <td>         0</td> <td>        0</td> <td>      nan</td> <td>   nan</td> <td>        0</td> <td>        0</td>\n",
       "</tr>\n",
       "<tr>\n",
       "  <th>Genres_Trivia</th>                                <td>   -0.0463</td> <td>    0.116</td> <td>   -0.400</td> <td> 0.689</td> <td>   -0.273</td> <td>    0.181</td>\n",
       "</tr>\n",
       "<tr>\n",
       "  <th>Genres_Video Players & Editors</th>               <td>    0.1031</td> <td>    0.496</td> <td>    0.208</td> <td> 0.835</td> <td>   -0.869</td> <td>    1.076</td>\n",
       "</tr>\n",
       "<tr>\n",
       "  <th>Genres_Video Players & Editors;Creativity</th>    <td>   -0.0243</td> <td>    0.429</td> <td>   -0.057</td> <td> 0.955</td> <td>   -0.866</td> <td>    0.818</td>\n",
       "</tr>\n",
       "<tr>\n",
       "  <th>Genres_Video Players & Editors;Music & Video</th> <td>    0.0245</td> <td>    0.430</td> <td>    0.057</td> <td> 0.955</td> <td>   -0.819</td> <td>    0.868</td>\n",
       "</tr>\n",
       "<tr>\n",
       "  <th>Genres_Weather</th>                               <td>    1.0312</td> <td>    0.167</td> <td>    6.180</td> <td> 0.000</td> <td>    0.704</td> <td>    1.358</td>\n",
       "</tr>\n",
       "<tr>\n",
       "  <th>Genres_Word</th>                                  <td>    0.0916</td> <td>    0.128</td> <td>    0.717</td> <td> 0.474</td> <td>   -0.159</td> <td>    0.342</td>\n",
       "</tr>\n",
       "</table>\n",
       "<table class=\"simpletable\">\n",
       "<tr>\n",
       "  <th>Omnibus:</th>       <td>2187.479</td> <th>  Durbin-Watson:     </th> <td>   1.961</td> \n",
       "</tr>\n",
       "<tr>\n",
       "  <th>Prob(Omnibus):</th>  <td> 0.000</td>  <th>  Jarque-Bera (JB):  </th> <td>11818.680</td>\n",
       "</tr>\n",
       "<tr>\n",
       "  <th>Skew:</th>           <td>-1.595</td>  <th>  Prob(JB):          </th> <td>    0.00</td> \n",
       "</tr>\n",
       "<tr>\n",
       "  <th>Kurtosis:</th>       <td> 8.953</td>  <th>  Cond. No.          </th> <td>3.28e+20</td> \n",
       "</tr>\n",
       "</table><br/><br/>Notes:<br/>[1] R² is computed without centering (uncentered) since the model does not contain a constant.<br/>[2] Standard Errors assume that the covariance matrix of the errors is correctly specified.<br/>[3] The smallest eigenvalue is 4.93e-29. This might indicate that there are<br/>strong multicollinearity problems or that the design matrix is singular."
      ],
      "text/plain": [
       "<class 'statsmodels.iolib.summary.Summary'>\n",
       "\"\"\"\n",
       "                                 OLS Regression Results                                \n",
       "=======================================================================================\n",
       "Dep. Variable:                 Rating   R-squared (uncentered):                   0.987\n",
       "Model:                            OLS   Adj. R-squared (uncentered):              0.987\n",
       "Method:                 Least Squares   F-statistic:                              3711.\n",
       "Date:                Tue, 25 Jan 2022   Prob (F-statistic):                        0.00\n",
       "Time:                        20:00:07   Log-Likelihood:                         -4298.0\n",
       "No. Observations:                6218   AIC:                                      8842.\n",
       "Df Residuals:                    6095   BIC:                                      9670.\n",
       "Df Model:                         123                                                  \n",
       "Covariance Type:            nonrobust                                                  \n",
       "================================================================================================================\n",
       "                                                   coef    std err          t      P>|t|      [0.025      0.975]\n",
       "----------------------------------------------------------------------------------------------------------------\n",
       "Reviews                                          0.1791      0.006     28.632      0.000       0.167       0.191\n",
       "Size                                         -4.854e-07   3.26e-07     -1.489      0.136   -1.12e-06    1.53e-07\n",
       "Installs                                        -0.1523      0.006    -24.457      0.000      -0.164      -0.140\n",
       "Price                                           -0.0014      0.003     -0.438      0.661      -0.008       0.005\n",
       "Category_AUTO_AND_VEHICLES                       1.1315      0.166      6.819      0.000       0.806       1.457\n",
       "Category_BEAUTY                                  1.1799      0.169      6.994      0.000       0.849       1.511\n",
       "Category_BOOKS_AND_REFERENCE                     1.1257      0.164      6.863      0.000       0.804       1.447\n",
       "Category_BUSINESS                                1.0355      0.164      6.331      0.000       0.715       1.356\n",
       "Category_COMICS                                  0.9923      0.167      5.934      0.000       0.664       1.320\n",
       "Category_COMMUNICATION                           0.9930      0.164      6.066      0.000       0.672       1.314\n",
       "Category_DATING                                  0.9337      0.165      5.667      0.000       0.611       1.257\n",
       "Category_EDUCATION                               1.8005      0.329      5.469      0.000       1.155       2.446\n",
       "Category_ENTERTAINMENT                           1.7226      0.329      5.233      0.000       1.077       2.368\n",
       "Category_EVENTS                                  1.2060      0.169      7.156      0.000       0.876       1.536\n",
       "Category_FAMILY                                  1.8412      0.324      5.682      0.000       1.206       2.477\n",
       "Category_FINANCE                                 1.0133      0.163      6.201      0.000       0.693       1.334\n",
       "Category_FOOD_AND_DRINK                          1.0257      0.165      6.214      0.000       0.702       1.349\n",
       "Category_GAME                                    2.0490      0.325      6.300      0.000       1.411       2.686\n",
       "Category_HEALTH_AND_FITNESS                      1.0548      0.164      6.448      0.000       0.734       1.375\n",
       "Category_HOUSE_AND_HOME                          1.0762      0.166      6.483      0.000       0.751       1.402\n",
       "Category_LIBRARIES_AND_DEMO                      1.1193      0.167      6.711      0.000       0.792       1.446\n",
       "Category_LIFESTYLE                               1.3167      0.272      4.849      0.000       0.784       1.849\n",
       "Category_MAPS_AND_NAVIGATION                     0.9752      0.165      5.915      0.000       0.652       1.298\n",
       "Category_MEDICAL                                 1.0810      0.163      6.614      0.000       0.761       1.401\n",
       "Category_NEWS_AND_MAGAZINES                      1.0071      0.164      6.151      0.000       0.686       1.328\n",
       "Category_PARENTING                               1.7399      0.288      6.047      0.000       1.176       2.304\n",
       "Category_PERSONALIZATION                         1.1052      0.164      6.758      0.000       0.785       1.426\n",
       "Category_PHOTOGRAPHY                             1.0208      0.164      6.238      0.000       0.700       1.342\n",
       "Category_PRODUCTIVITY                            1.0408      0.164      6.363      0.000       0.720       1.362\n",
       "Category_SHOPPING                                1.0530      0.164      6.423      0.000       0.732       1.374\n",
       "Category_SOCIAL                                  1.0271      0.164      6.269      0.000       0.706       1.348\n",
       "Category_SPORTS                                  2.0183      0.475      4.253      0.000       1.088       2.949\n",
       "Category_TOOLS                                   1.0014      0.163      6.140      0.000       0.682       1.321\n",
       "Category_TRAVEL_AND_LOCAL                        1.0226      0.164      6.236      0.000       0.701       1.344\n",
       "Category_VIDEO_PLAYERS                           1.8412      0.586      3.144      0.002       0.693       2.989\n",
       "Category_WEATHER                                 1.0312      0.167      6.180      0.000       0.704       1.358\n",
       "Type_Paid                                       -0.0624      0.032     -1.958      0.050      -0.125    6.98e-05\n",
       "Content_rating_Everyone                          2.4978      0.325      7.679      0.000       1.860       3.135\n",
       "Content_rating_Everyone 10+                      2.4957      0.326      7.644      0.000       1.856       3.136\n",
       "Content_rating_Mature 17+                        2.4895      0.327      7.608      0.000       1.848       3.131\n",
       "Content_rating_Teen                              2.5189      0.326      7.738      0.000       1.881       3.157\n",
       "Content_rating_Unrated                        9.981e-13   9.64e-12      0.104      0.918   -1.79e-11    1.99e-11\n",
       "Genres_Action;Action & Adventure                 0.2267      0.165      1.371      0.170      -0.097       0.551\n",
       "Genres_Adventure                                -0.0768      0.079     -0.974      0.330      -0.231       0.078\n",
       "Genres_Adventure;Action & Adventure              0.3490      0.494      0.707      0.480      -0.619       1.317\n",
       "Genres_Adventure;Brain Games                  4.183e-14   8.01e-13      0.052      0.958   -1.53e-12    1.61e-12\n",
       "Genres_Adventure;Education                       0.0087      0.354      0.025      0.980      -0.685       0.702\n",
       "Genres_Arcade                                    0.0330      0.057      0.574      0.566      -0.080       0.146\n",
       "Genres_Arcade;Action & Adventure                 0.2020      0.188      1.073      0.283      -0.167       0.571\n",
       "Genres_Arcade;Pretend Play                       0.5054      0.494      1.023      0.306      -0.463       1.474\n",
       "Genres_Art & Design                              2.3853      0.335      7.110      0.000       1.728       3.043\n",
       "Genres_Art & Design;Creativity                   1.8726      0.342      5.481      0.000       1.203       2.542\n",
       "Genres_Art & Design;Pretend Play                 1.2549      0.386      3.251      0.001       0.498       2.012\n",
       "Genres_Auto & Vehicles                           1.1315      0.166      6.819      0.000       0.806       1.457\n",
       "Genres_Beauty                                    1.1799      0.169      6.994      0.000       0.849       1.511\n",
       "Genres_Board                                     0.0380      0.092      0.413      0.679      -0.142       0.218\n",
       "Genres_Board;Action & Adventure                  0.1390      0.292      0.476      0.634      -0.433       0.711\n",
       "Genres_Board;Brain Games                         0.3832      0.166      2.313      0.021       0.058       0.708\n",
       "Genres_Board;Pretend Play                        0.9597      0.494      1.942      0.052      -0.009       1.929\n",
       "Genres_Books & Reference                         1.1257      0.164      6.863      0.000       0.804       1.447\n",
       "Genres_Books & Reference;Education               0.2525      0.353      0.715      0.475      -0.440       0.945\n",
       "Genres_Business                                  1.0355      0.164      6.331      0.000       0.715       1.356\n",
       "Genres_Card                                     -0.1963      0.095     -2.069      0.039      -0.382      -0.010\n",
       "Genres_Card;Action & Adventure                  -0.0280      0.494     -0.057      0.955      -0.997       0.941\n",
       "Genres_Card;Brain Games                      -8.451e-14   8.22e-13     -0.103      0.918    -1.7e-12    1.53e-12\n",
       "Genres_Casino                                    0.0389      0.101      0.386      0.700      -0.159       0.237\n",
       "Genres_Casual                                    0.0869      0.083      1.052      0.293      -0.075       0.249\n",
       "Genres_Casual;Action & Adventure                 0.1584      0.160      0.989      0.322      -0.155       0.472\n",
       "Genres_Casual;Brain Games                        0.5976      0.200      2.994      0.003       0.206       0.989\n",
       "Genres_Casual;Creativity                         0.4648      0.353      1.315      0.188      -0.228       1.158\n",
       "Genres_Casual;Education                          0.3279      0.292      1.124      0.261      -0.244       0.900\n",
       "Genres_Casual;Music & Video                      0.3362      0.494      0.681      0.496      -0.632       1.305\n",
       "Genres_Casual;Pretend Play                       0.1791      0.126      1.425      0.154      -0.067       0.425\n",
       "Genres_Comics                                    0.9923      0.167      5.934      0.000       0.664       1.320\n",
       "Genres_Comics;Creativity                     -8.561e-13   8.83e-12     -0.097      0.923   -1.82e-11    1.65e-11\n",
       "Genres_Communication                             0.9930      0.164      6.066      0.000       0.672       1.314\n",
       "Genres_Communication;Creativity                4.45e-14   6.96e-14      0.640      0.523   -9.19e-14    1.81e-13\n",
       "Genres_Dating                                    0.9337      0.165      5.667      0.000       0.611       1.257\n",
       "Genres_Education                                 0.4275      0.082      5.203      0.000       0.266       0.589\n",
       "Genres_Education;Action & Adventure              0.6816      0.256      2.661      0.008       0.179       1.184\n",
       "Genres_Education;Brain Games                     0.3052      0.294      1.037      0.300      -0.272       0.882\n",
       "Genres_Education;Creativity                      0.7020      0.233      3.019      0.003       0.246       1.158\n",
       "Genres_Education;Education                       0.4783      0.121      3.940      0.000       0.240       0.716\n",
       "Genres_Education;Music & Video                   0.5026      0.292      1.719      0.086      -0.071       1.076\n",
       "Genres_Education;Pretend Play                    0.5082      0.142      3.588      0.000       0.231       0.786\n",
       "Genres_Educational                              -0.0234      0.124     -0.188      0.851      -0.267       0.220\n",
       "Genres_Educational;Action & Adventure            0.2252      0.292      0.772      0.440      -0.347       0.798\n",
       "Genres_Educational;Brain Games                   0.3720      0.231      1.608      0.108      -0.081       0.825\n",
       "Genres_Educational;Creativity                    0.5701      0.292      1.952      0.051      -0.002       1.142\n",
       "Genres_Educational;Education                     0.4684      0.118      3.959      0.000       0.236       0.700\n",
       "Genres_Educational;Pretend Play                  0.3234      0.151      2.140      0.032       0.027       0.620\n",
       "Genres_Entertainment                             0.2080      0.081      2.572      0.010       0.049       0.367\n",
       "Genres_Entertainment;Action & Adventure          0.1614      0.353      0.457      0.648      -0.531       0.854\n",
       "Genres_Entertainment;Brain Games                 0.3538      0.214      1.651      0.099      -0.066       0.774\n",
       "Genres_Entertainment;Creativity                  0.6017      0.293      2.056      0.040       0.028       1.175\n",
       "Genres_Entertainment;Education                   0.5762      0.494      1.167      0.243      -0.392       1.544\n",
       "Genres_Entertainment;Music & Video               0.2831      0.135      2.097      0.036       0.018       0.548\n",
       "Genres_Entertainment;Pretend Play               -0.0535      0.353     -0.151      0.880      -0.746       0.639\n",
       "Genres_Events                                    1.2060      0.169      7.156      0.000       0.876       1.536\n",
       "Genres_Finance                                   1.0133      0.163      6.201      0.000       0.693       1.334\n",
       "Genres_Food & Drink                              1.0257      0.165      6.214      0.000       0.702       1.349\n",
       "Genres_Health & Fitness                          1.0548      0.164      6.448      0.000       0.734       1.375\n",
       "Genres_Health & Fitness;Action & Adventure      -0.1472      0.494     -0.298      0.766      -1.116       0.821\n",
       "Genres_Health & Fitness;Education                0.4941      0.494      1.001      0.317      -0.474       1.462\n",
       "Genres_House & Home                              1.0762      0.166      6.483      0.000       0.751       1.402\n",
       "Genres_Libraries & Demo                          1.1193      0.167      6.711      0.000       0.792       1.446\n",
       "Genres_Lifestyle                                 0.7514      0.197      3.816      0.000       0.365       1.137\n",
       "Genres_Lifestyle;Education                       0.2719      0.494      0.550      0.582      -0.696       1.240\n",
       "Genres_Lifestyle;Pretend Play                    0.5654      0.344      1.645      0.100      -0.108       1.239\n",
       "Genres_Maps & Navigation                         0.9752      0.165      5.915      0.000       0.652       1.298\n",
       "Genres_Medical                                   1.0810      0.163      6.614      0.000       0.761       1.401\n",
       "Genres_Music                                    -0.0648      0.127     -0.509      0.611      -0.315       0.185\n",
       "Genres_Music & Audio;Music & Video               0.6707      0.494      1.358      0.175      -0.298       1.639\n",
       "Genres_Music;Music & Video                       0.5457      0.292      1.871      0.061      -0.026       1.118\n",
       "Genres_News & Magazines                          1.0071      0.164      6.151      0.000       0.686       1.328\n",
       "Genres_Parenting                                 0.5934      0.152      3.898      0.000       0.295       0.892\n",
       "Genres_Parenting;Brain Games                     0.2006      0.402      0.498      0.618      -0.588       0.990\n",
       "Genres_Parenting;Education                       0.2661      0.258      1.030      0.303      -0.240       0.773\n",
       "Genres_Parenting;Music & Video                   0.6798      0.218      3.113      0.002       0.252       1.108\n",
       "Genres_Personalization                           1.1052      0.164      6.758      0.000       0.785       1.426\n",
       "Genres_Photography                               1.0208      0.164      6.238      0.000       0.700       1.342\n",
       "Genres_Productivity                              1.0408      0.164      6.363      0.000       0.720       1.362\n",
       "Genres_Puzzle                                    0.2833      0.082      3.448      0.001       0.122       0.444\n",
       "Genres_Puzzle;Action & Adventure                 0.2567      0.292      0.879      0.379      -0.316       0.829\n",
       "Genres_Puzzle;Brain Games                        0.3576      0.147      2.430      0.015       0.069       0.646\n",
       "Genres_Puzzle;Creativity                         0.1798      0.494      0.364      0.716      -0.788       1.148\n",
       "Genres_Puzzle;Education                          0.8202      0.494      1.661      0.097      -0.148       1.788\n",
       "Genres_Racing                                   -0.0608      0.077     -0.795      0.427      -0.211       0.089\n",
       "Genres_Racing;Action & Adventure                 0.3559      0.151      2.354      0.019       0.060       0.652\n",
       "Genres_Racing;Pretend Play                       0.9220      0.494      1.866      0.062      -0.047       1.891\n",
       "Genres_Role Playing                              0.0949      0.086      1.108      0.268      -0.073       0.263\n",
       "Genres_Role Playing;Action & Adventure           0.1549      0.255      0.606      0.544      -0.346       0.656\n",
       "Genres_Role Playing;Brain Games                  0.3058      0.494      0.619      0.536      -0.662       1.274\n",
       "Genres_Role Playing;Pretend Play                 0.0823      0.256      0.322      0.747      -0.419       0.584\n",
       "Genres_Shopping                                  1.0530      0.164      6.423      0.000       0.732       1.374\n",
       "Genres_Simulation                                0.1847      0.083      2.222      0.026       0.022       0.348\n",
       "Genres_Simulation;Action & Adventure             0.3972      0.197      2.019      0.044       0.012       0.783\n",
       "Genres_Simulation;Education                      0.0488      0.349      0.140      0.889      -0.636       0.734\n",
       "Genres_Simulation;Pretend Play                   0.2501      0.292      0.857      0.391      -0.322       0.822\n",
       "Genres_Social                                    1.0271      0.164      6.269      0.000       0.706       1.348\n",
       "Genres_Sports                                    0.0511      0.347      0.147      0.883      -0.630       0.732\n",
       "Genres_Sports;Action & Adventure                 0.0953      0.292      0.326      0.744      -0.477       0.668\n",
       "Genres_Strategy                                  0.0407      0.094      0.432      0.666      -0.144       0.225\n",
       "Genres_Strategy;Action & Adventure               0.4759      0.353      1.347      0.178      -0.217       1.168\n",
       "Genres_Strategy;Creativity                       0.0874      0.494      0.177      0.860      -0.881       1.056\n",
       "Genres_Strategy;Education                        0.8130      0.494      1.646      0.100      -0.155       1.781\n",
       "Genres_Tools                                     1.0014      0.163      6.140      0.000       0.682       1.321\n",
       "Genres_Tools;Education                                0          0        nan        nan           0           0\n",
       "Genres_Travel & Local                            1.0226      0.164      6.236      0.000       0.701       1.344\n",
       "Genres_Travel & Local;Action & Adventure              0          0        nan        nan           0           0\n",
       "Genres_Trivia                                   -0.0463      0.116     -0.400      0.689      -0.273       0.181\n",
       "Genres_Video Players & Editors                   0.1031      0.496      0.208      0.835      -0.869       1.076\n",
       "Genres_Video Players & Editors;Creativity       -0.0243      0.429     -0.057      0.955      -0.866       0.818\n",
       "Genres_Video Players & Editors;Music & Video     0.0245      0.430      0.057      0.955      -0.819       0.868\n",
       "Genres_Weather                                   1.0312      0.167      6.180      0.000       0.704       1.358\n",
       "Genres_Word                                      0.0916      0.128      0.717      0.474      -0.159       0.342\n",
       "==============================================================================\n",
       "Omnibus:                     2187.479   Durbin-Watson:                   1.961\n",
       "Prob(Omnibus):                  0.000   Jarque-Bera (JB):            11818.680\n",
       "Skew:                          -1.595   Prob(JB):                         0.00\n",
       "Kurtosis:                       8.953   Cond. No.                     3.28e+20\n",
       "==============================================================================\n",
       "\n",
       "Notes:\n",
       "[1] R² is computed without centering (uncentered) since the model does not contain a constant.\n",
       "[2] Standard Errors assume that the covariance matrix of the errors is correctly specified.\n",
       "[3] The smallest eigenvalue is 4.93e-29. This might indicate that there are\n",
       "strong multicollinearity problems or that the design matrix is singular.\n",
       "\"\"\""
      ]
     },
     "execution_count": 78,
     "metadata": {},
     "output_type": "execute_result"
    }
   ],
   "source": [
    "# Finding the adjusted R2, R2 score and RMSE value\n",
    "total = OLS( y_train, x_train).fit()\n",
    "total.summary()"
   ]
  },
  {
   "cell_type": "code",
   "execution_count": 79,
   "id": "52ce44a6",
   "metadata": {},
   "outputs": [
    {
     "name": "stdout",
     "output_type": "stream",
     "text": [
      "R2_Score= 0.12222670401790092\n",
      "Root_Mean_Squared_Error(RMSE)= 0.4819403794085199\n"
     ]
    }
   ],
   "source": [
    "# Lets see the results\n",
    "print('R2_Score=', r2_score(y_test, y_pred))\n",
    "print('Root_Mean_Squared_Error(RMSE)=',np.sqrt(ms(y_test,y_pred)))"
   ]
  },
  {
   "cell_type": "markdown",
   "id": "dcce4993",
   "metadata": {},
   "source": [
    "Observations:\n",
    "    - The Adjusted R-squared is 0.987 which means is very close to 1, \n",
    "    so the correlation between the predicted and the test value is good\n"
   ]
  },
  {
   "cell_type": "code",
   "execution_count": null,
   "id": "3dba65f9",
   "metadata": {},
   "outputs": [],
   "source": []
  }
 ],
 "metadata": {
  "kernelspec": {
   "display_name": "Python 3",
   "language": "python",
   "name": "python3"
  },
  "language_info": {
   "codemirror_mode": {
    "name": "ipython",
    "version": 3
   },
   "file_extension": ".py",
   "mimetype": "text/x-python",
   "name": "python",
   "nbconvert_exporter": "python",
   "pygments_lexer": "ipython3",
   "version": "3.8.8"
  }
 },
 "nbformat": 4,
 "nbformat_minor": 5
}
